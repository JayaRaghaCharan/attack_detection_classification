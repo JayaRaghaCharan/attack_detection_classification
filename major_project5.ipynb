{
  "nbformat": 4,
  "nbformat_minor": 0,
  "metadata": {
    "colab": {
      "provenance": []
    },
    "kernelspec": {
      "name": "python3",
      "display_name": "Python 3"
    },
    "language_info": {
      "name": "python"
    }
  },
  "cells": [
    {
      "cell_type": "code",
      "execution_count": 1,
      "metadata": {
        "colab": {
          "base_uri": "https://localhost:8080/"
        },
        "id": "_8rF6KbFYHhi",
        "outputId": "99a1bff7-ee9e-43eb-bf42-2b642caf6230"
      },
      "outputs": [
        {
          "output_type": "stream",
          "name": "stdout",
          "text": [
            "Collecting Keras-Applications\n",
            "  Downloading Keras_Applications-1.0.8-py3-none-any.whl (50 kB)\n",
            "\u001b[2K     \u001b[90m━━━━━━━━━━━━━━━━━━━━━━━━━━━━━━━━━━━━━━━━\u001b[0m \u001b[32m50.7/50.7 kB\u001b[0m \u001b[31m1.7 MB/s\u001b[0m eta \u001b[36m0:00:00\u001b[0m\n",
            "\u001b[?25hRequirement already satisfied: numpy>=1.9.1 in /usr/local/lib/python3.10/dist-packages (from Keras-Applications) (1.25.2)\n",
            "Requirement already satisfied: h5py in /usr/local/lib/python3.10/dist-packages (from Keras-Applications) (3.9.0)\n",
            "Installing collected packages: Keras-Applications\n",
            "Successfully installed Keras-Applications-1.0.8\n"
          ]
        }
      ],
      "source": [
        "pip install Keras-Applications"
      ]
    },
    {
      "cell_type": "code",
      "source": [
        "import os\n",
        "from keras.preprocessing.image import  ImageDataGenerator\n",
        "from keras.layers import Dense,Flatten,GlobalAveragePooling2D,Input,Conv2D,MaxPooling2D,Dropout\n",
        "from keras.models import Model,load_model,Sequential\n",
        "from keras.applications.xception import  Xception\n",
        "from keras.applications.vgg16 import VGG16\n",
        "from keras.applications.vgg19 import VGG19\n",
        "from keras.applications.inception_v3 import InceptionV3\n",
        "from keras.applications.inception_resnet_v2 import InceptionResNetV2\n",
        "from keras.applications.efficientnet import EfficientNetB7\n",
        "from keras.applications.efficientnet_v2 import EfficientNetV2L\n",
        "import keras.callbacks as kcallbacks\n",
        "import keras\n",
        "#from keras.preprocessing.image import load_img,img_to_array\n",
        "from tensorflow.keras.utils import img_to_array\n",
        "import math\n",
        "import random\n",
        "from keras.utils import plot_model\n",
        "import matplotlib.pyplot as plt\n",
        "import sklearn.metrics as metrics\n",
        "import numpy as np\n",
        "from PIL import Image\n",
        "import matplotlib.pyplot as plt\n",
        "import sklearn.metrics as metrics\n",
        "from sklearn.metrics import accuracy_score,precision_score,recall_score,f1_score"
      ],
      "metadata": {
        "id": "OlyG4yCSYQZJ"
      },
      "execution_count": null,
      "outputs": []
    },
    {
      "cell_type": "code",
      "source": [
        "#generate training and test images\n",
        "TARGET_SIZE=(224,224)\n",
        "INPUT_SIZE=(224,224,3)\n",
        "BATCHSIZE=32\t#could try 128 or 32\n",
        "\n",
        "#Normalization\n",
        "train_datagen = ImageDataGenerator(rescale=1./255)\n",
        "\n",
        "test_datagen = ImageDataGenerator(rescale=1./255)\n",
        "\n",
        "train_generator = train_datagen.flow_from_directory(\n",
        "        '/content/drive/MyDrive/Transfer_IDS_IIoT/Datasets/train_A',\n",
        "        target_size=TARGET_SIZE,\n",
        "        batch_size=BATCHSIZE,\n",
        "        class_mode='categorical')\n",
        "validation_generator = test_datagen.flow_from_directory(\n",
        "        '/content/drive/MyDrive/Transfer_IDS_IIoT/Datasets/test_A',\n",
        "        target_size=TARGET_SIZE,\n",
        "        batch_size=BATCHSIZE,\n",
        "        class_mode='categorical')"
      ],
      "metadata": {
        "id": "Nx_ATLSoYUL1"
      },
      "execution_count": null,
      "outputs": []
    },
    {
      "cell_type": "code",
      "source": [
        "#Tuned Hyperparameters for Generic CNN model by Genetic Algorithm\n",
        "# f1,f2,f3 : Filter Sizes : 32, 128, 256\n",
        "# k : Kernel_size : 5\n",
        "# a1, a2: Activation functions : relu, selu\n",
        "# d1: Drop out : 0.1\n",
        "# op: Optimizer : adam\n",
        "# ep: Number of epochs : 17\n",
        "\n",
        "input_shape=INPUT_SIZE\n",
        "num_class=15\n",
        "epochs=25                #Training is executed for 25 epochs for the better visualization of results\n",
        "savepath='/content/drive/MyDrive/Transfer_IDS_IIoT/Optimized_Trained_Models/generic_cnn.h5'\n",
        "\n",
        "#Define CNN Model\n",
        "model = Sequential()\n",
        "model.add(Conv2D(32,(5,5),strides=(1,1),input_shape=input_shape,padding='same',activation='relu'))\n",
        "model.add(Conv2D(32,(5,5),strides=(1,1),padding='same',activation='relu'))\n",
        "model.add(MaxPooling2D(pool_size=(2,2)))\n",
        "model.add(Conv2D(128,(5,5),strides=(1,1),padding='same',activation='selu'))\n",
        "model.add(Conv2D(128,(5,5),strides=(1,1),padding='same',activation='selu'))\n",
        "model.add(GlobalAveragePooling2D())\n",
        "model.add(Dense(256,activation='selu'))\n",
        "model.add(Dropout(rate=0.1))\n",
        "model.add(Dense(num_class,activation='softmax'))\n",
        "opt = keras.optimizers.Adam(learning_rate=0.001, beta_1=0.9, beta_2=0.999, epsilon=1e-08)\n",
        "model.compile(loss='categorical_crossentropy', optimizer=opt, metrics=['accuracy'])\n",
        "\n",
        "#Model Training\n",
        "saveBestModel = kcallbacks.ModelCheckpoint(filepath=savepath, monitor='val_accuracy', verbose=1, save_best_only=True, mode='auto')\n",
        "history=model.fit(train_generator,steps_per_epoch=len(train_generator),epochs=epochs,validation_data=validation_generator,\n",
        "                  validation_steps=len(validation_generator), callbacks=[saveBestModel])\n",
        "\n",
        "#Plot Training and Testing Accuracies\n",
        "plt.plot(history.history['accuracy'])\n",
        "plt.plot(history.history['val_accuracy'])\n",
        "plt.title('CNN Model Accuracy', fontsize=12, fontweight='bold')\n",
        "plt.ylabel('Accuracy', fontsize=10, fontweight='bold')\n",
        "plt.xlabel('Number of Epochs', fontsize=10, fontweight='bold')\n",
        "plt.legend(['Train', 'Test'], loc='lower right')\n",
        "plt.grid()\n",
        "plt.show()\n",
        "\n",
        "#Plot Training and Testing Loss\n",
        "plt.plot(history.history['loss'])\n",
        "plt.plot(history.history['val_loss'])\n",
        "plt.title('CNN Model Loss', fontsize=12, fontweight='bold')\n",
        "plt.ylabel('Loss', fontsize=10, fontweight='bold')\n",
        "plt.xlabel('Number of Epochs', fontsize=10, fontweight='bold')\n",
        "plt.legend(['Train', 'Test'], loc='upper right')\n",
        "plt.grid()\n",
        "plt.show()\n"
      ],
      "metadata": {
        "id": "T0F6cBkWYYCR"
      },
      "execution_count": null,
      "outputs": []
    },
    {
      "cell_type": "code",
      "source": [
        "#Tuned Hyperparameters for Xception model by Genetic Algorithm\n",
        "# frozen: Frozen Layers : 128\n",
        "# f1: Number of units in dense layer: 128\n",
        "# a1: Activation function : selu\n",
        "# d1: Drop out : 0.2\n",
        "# op: Optimizer : adamax\n",
        "# ep: Number of epochs : 14\n",
        "\n",
        "\n",
        "input_shape=INPUT_SIZE\n",
        "num_class=15\n",
        "epochs=25              #Training is executed for 25 epochs for the better visualization of results\n",
        "savepath='/content/drive/MyDrive/Transfer_IDS_IIoT/Optimized_Trained_Models/xception.h5'\n",
        "\n",
        "#Define Xception Model\n",
        "model_fine_tune = Xception(include_top=False, weights='imagenet', input_shape=input_shape)\n",
        "for layer in model_fine_tune.layers[:128]:\n",
        "    layer.trainable = False\n",
        "for layer in model_fine_tune.layers[128:]:\n",
        "    layer.trainable = True\n",
        "model = GlobalAveragePooling2D()(model_fine_tune.output)\n",
        "model=Dense(units=128,activation='selu')(model)\n",
        "model=Dropout(0.2)(model)\n",
        "model = Dense(num_class, activation='softmax')(model)\n",
        "model = Model(model_fine_tune.input, model, name='xception')\n",
        "opt = keras.optimizers.Adamax(learning_rate=0.001, beta_1=0.9, beta_2=0.999, epsilon=1e-08)\n",
        "model.compile(loss='categorical_crossentropy', optimizer=opt, metrics=['accuracy'])\n",
        "\n",
        "#Model Training\n",
        "saveBestModel = kcallbacks.ModelCheckpoint(filepath=savepath, monitor='val_accuracy', verbose=1, save_best_only=True, mode='auto')\n",
        "history=model.fit(train_generator,steps_per_epoch=len(train_generator),epochs=epochs,validation_data=validation_generator,\n",
        "                  validation_steps=len(validation_generator), callbacks=[saveBestModel])\n",
        "\n",
        "#Plot Training and Testing Accuracies\n",
        "plt.plot(history.history['accuracy'])\n",
        "plt.plot(history.history['val_accuracy'])\n",
        "plt.title('Xception Model Accuracy', fontsize=12, fontweight='bold')\n",
        "plt.ylabel('Accuracy', fontsize=10, fontweight='bold')\n",
        "plt.xlabel('Number of Epochs', fontsize=10, fontweight='bold')\n",
        "plt.legend(['Train', 'Test'], loc='lower right')\n",
        "plt.grid()\n",
        "plt.show()\n",
        "\n",
        "#Plot Training and Testing Loss\n",
        "plt.plot(history.history['loss'])\n",
        "plt.plot(history.history['val_loss'])\n",
        "plt.title('Xception Model Loss', fontsize=12, fontweight='bold')\n",
        "plt.ylabel('Loss', fontsize=10, fontweight='bold')\n",
        "plt.xlabel('Number of Epochs', fontsize=10, fontweight='bold')\n",
        "plt.legend(['Train', 'Test'], loc='upper right')\n",
        "plt.grid()\n",
        "plt.show()\n"
      ],
      "metadata": {
        "id": "vmyXaNLwYbom"
      },
      "execution_count": null,
      "outputs": []
    },
    {
      "cell_type": "code",
      "source": [
        "#Tuned Hyperparameters for VGG16 model by Genetic Algorithm\n",
        "# frozen: Frozen Layers : 8\n",
        "# f1: Number of units in dense layer: 128\n",
        "# a1: Activation function : elu\n",
        "# d1: Drop out : 0.5\n",
        "# op: Optimizer : adagrad\n",
        "# ep: Number of epochs : 11\n",
        "\n",
        "input_shape=INPUT_SIZE\n",
        "num_class=15\n",
        "epochs=25        #Training is executed for 25 epochs for the better visualization of results\n",
        "savepath='/content/drive/MyDrive/Transfer_IDS_IIoT/Optimized_Trained_Models/VGG16.h5'\n",
        "\n",
        "#Define VGG16 Model\n",
        "model_fine_tune = VGG16(include_top=False, weights='imagenet', input_shape=input_shape)\n",
        "for layer in model_fine_tune.layers[:8]:\n",
        "    layer.trainable = False\n",
        "for layer in model_fine_tune.layers[8:]:\n",
        "    layer.trainable = True\n",
        "model = GlobalAveragePooling2D()(model_fine_tune.output)\n",
        "model=Dense(units=128,activation='elu')(model)\n",
        "model=Dropout(0.5)(model)\n",
        "model = Dense(num_class, activation='softmax')(model)\n",
        "model = Model(model_fine_tune.input, model, name='vgg')\n",
        "opt = keras.optimizers.Adagrad(learning_rate=0.001, initial_accumulator_value=0.1, epsilon=1e-07)\n",
        "model.compile(loss='categorical_crossentropy', optimizer=opt, metrics=['accuracy'])\n",
        "\n",
        "#Model Training\n",
        "saveBestModel = kcallbacks.ModelCheckpoint(filepath=savepath, monitor='val_accuracy', verbose=1, save_best_only=True, mode='auto')\n",
        "history=model.fit(train_generator,steps_per_epoch=len(train_generator),epochs=epochs,validation_data=validation_generator,\n",
        "                  validation_steps=len(validation_generator), callbacks=[saveBestModel])\n",
        "\n",
        "#Plot Training and Testing Accuracies\n",
        "plt.plot(history.history['accuracy'])\n",
        "plt.plot(history.history['val_accuracy'])\n",
        "plt.title('VGG16 Model Accuracy', fontsize=12, fontweight='bold')\n",
        "plt.ylabel('Accuracy', fontsize=10, fontweight='bold')\n",
        "plt.xlabel('Number of Epochs', fontsize=10, fontweight='bold')\n",
        "plt.legend(['Train', 'Test'], loc='lower right')\n",
        "plt.grid()\n",
        "plt.show()\n",
        "\n",
        "#Plot Training and Testing Loss\n",
        "plt.plot(history.history['loss'])\n",
        "plt.plot(history.history['val_loss'])\n",
        "plt.title('VGG16 Model Loss', fontsize=12, fontweight='bold')\n",
        "plt.ylabel('Loss', fontsize=10, fontweight='bold')\n",
        "plt.xlabel('Number of Epochs', fontsize=10, fontweight='bold')\n",
        "plt.legend(['Train', 'Test'], loc='upper right')\n",
        "plt.grid()\n",
        "plt.show()\n"
      ],
      "metadata": {
        "id": "s9GaQXODYgHe"
      },
      "execution_count": null,
      "outputs": []
    },
    {
      "cell_type": "code",
      "source": [
        "#Tuned Hyperparameters for VGG19 model by Genetic Algorithm\n",
        "# frozen: Frozen Layers : 10\n",
        "# f1: Number of units in dense layer: 128\n",
        "# a1: Activation function : relu\n",
        "# d1: Drop out : 0.3\n",
        "# op: Optimizer : adamax\n",
        "# ep: Number of epochs : 16\n",
        "\n",
        "input_shape=INPUT_SIZE\n",
        "num_class=15\n",
        "epochs=25        #Training is executed for 25 epochs for the better visualization of results\n",
        "savepath='/content/drive/MyDrive/Transfer_IDS_IIoT/Optimized_Trained_Models/VGG19.h5'\n",
        "\n",
        "#Define VGG19 Model\n",
        "model_fine_tune = VGG19(include_top=False, weights='imagenet', input_shape=input_shape)\n",
        "for layer in model_fine_tune.layers[:10]:\n",
        "    layer.trainable = False\n",
        "for layer in model_fine_tune.layers[10:]:\n",
        "    layer.trainable = True\n",
        "model = GlobalAveragePooling2D()(model_fine_tune.output)\n",
        "model = Dense(units=128,activation='relu')(model)\n",
        "model = Dropout(0.3)(model)\n",
        "model = Dense(num_class, activation='softmax')(model)\n",
        "model = Model(model_fine_tune.input, model, name='vgg')\n",
        "opt = keras.optimizers.Adamax(learning_rate=0.001, beta_1=0.9, beta_2=0.999, epsilon=1e-08)\n",
        "model.compile(loss='categorical_crossentropy', optimizer=opt, metrics=['accuracy'])\n",
        "\n",
        "#Model Training\n",
        "saveBestModel = kcallbacks.ModelCheckpoint(filepath=savepath, monitor='val_accuracy', verbose=1, save_best_only=True, mode='auto')\n",
        "history=model.fit(train_generator,steps_per_epoch=len(train_generator),epochs=epochs,validation_data=validation_generator,\n",
        "                  validation_steps=len(validation_generator), callbacks=[saveBestModel])\n",
        "\n",
        "#Plot Training and Testing Accuracies\n",
        "plt.plot(history.history['accuracy'])\n",
        "plt.plot(history.history['val_accuracy'])\n",
        "plt.title('VGG19 Model Accuracy', fontsize=12, fontweight='bold')\n",
        "plt.ylabel('Accuracy', fontsize=10, fontweight='bold')\n",
        "plt.xlabel('Number of Epochs', fontsize=10, fontweight='bold')\n",
        "plt.legend(['Train', 'Test'], loc='lower right')\n",
        "plt.grid()\n",
        "plt.show()\n",
        "\n",
        "#Plot Training and Testing Loss\n",
        "plt.plot(history.history['loss'])\n",
        "plt.plot(history.history['val_loss'])\n",
        "plt.title('VGG19 Model Loss', fontsize=12, fontweight='bold')\n",
        "plt.ylabel('Loss', fontsize=10, fontweight='bold')\n",
        "plt.xlabel('Number of Epochs', fontsize=10, fontweight='bold')\n",
        "plt.legend(['Train', 'Test'], loc='upper right')\n",
        "plt.grid()\n",
        "plt.show()\n"
      ],
      "metadata": {
        "id": "cqj_ZV56Yjuu"
      },
      "execution_count": null,
      "outputs": []
    },
    {
      "cell_type": "code",
      "source": [
        "#Tuned Hyperparameters for Inception model by Genetic Algorithm\n",
        "# frozen: Frozen Layers : 45\n",
        "# f1: Number of units in dense layer: 128\n",
        "# a1: Activation function : relu\n",
        "# d1: Drop out : 0.5\n",
        "# op: Optimizer : adagrad\n",
        "# ep: Number of epochs : 19\n",
        "\n",
        "input_shape=INPUT_SIZE\n",
        "num_class=15\n",
        "epochs=25           #Training is executed for 25 epochs for the better visualization of results\n",
        "savepath='/content/drive/MyDrive/Transfer_IDS_IIoT/Optimized_Trained_Models/inception.h5'\n",
        "\n",
        "#Define Inception Model\n",
        "model_fine_tune = InceptionV3(include_top=False, weights='imagenet', input_shape=input_shape)\n",
        "for layer in model_fine_tune.layers[:45]:\n",
        "    layer.trainable = False\n",
        "for layer in model_fine_tune.layers[45:]:\n",
        "    layer.trainable = True\n",
        "model = GlobalAveragePooling2D()(model_fine_tune.output)\n",
        "model=Dense(units=256,activation='relu')(model)\n",
        "model=Dropout(0.5)(model)\n",
        "model = Dense(num_class, activation='softmax')(model)\n",
        "model = Model(model_fine_tune.input, model, name='resnet')\n",
        "opt = keras.optimizers.Adagrad(learning_rate=0.001, initial_accumulator_value=0.1, epsilon=1e-07)\n",
        "model.compile(loss='categorical_crossentropy', optimizer=opt, metrics=['accuracy'])\n",
        "\n",
        "#Model Training\n",
        "saveBestModel = kcallbacks.ModelCheckpoint(filepath=savepath, monitor='val_accuracy', verbose=1, save_best_only=True, mode='auto')\n",
        "history=model.fit(train_generator,steps_per_epoch=len(train_generator),epochs=epochs,validation_data=validation_generator,\n",
        "                  validation_steps=len(validation_generator), callbacks=[saveBestModel])\n",
        "\n",
        "#Plot Training and Testing Accuracies\n",
        "plt.plot(history.history['accuracy'])\n",
        "plt.plot(history.history['val_accuracy'])\n",
        "plt.title('Inception Model Accuracy', fontsize=12, fontweight='bold')\n",
        "plt.ylabel('Accuracy', fontsize=10, fontweight='bold')\n",
        "plt.xlabel('Number of Epochs', fontsize=10, fontweight='bold')\n",
        "plt.legend(['Train', 'Test'], loc='lower right')\n",
        "plt.grid()\n",
        "plt.show()\n",
        "\n",
        "#Plot Training and Testing Loss\n",
        "plt.plot(history.history['loss'])\n",
        "plt.plot(history.history['val_loss'])\n",
        "plt.title('Inception Model Loss', fontsize=12, fontweight='bold')\n",
        "plt.ylabel('Loss', fontsize=10, fontweight='bold')\n",
        "plt.xlabel('Number of Epochs', fontsize=10, fontweight='bold')\n",
        "plt.legend(['Train', 'Test'], loc='upper right')\n",
        "plt.grid()"
      ],
      "metadata": {
        "id": "d1eI4XhoYoJS"
      },
      "execution_count": null,
      "outputs": []
    },
    {
      "cell_type": "code",
      "source": [
        "#Tuned Hyperparameters for InceptionResnet model by Genetic Algorithm\n",
        "# frozen: Frozen Layers : 451\n",
        "# f1: Number of units in dense layer: 128\n",
        "# a1: Activation function : selu\n",
        "# d1: Drop out : 0.3\n",
        "# op: Optimizer : adamax\n",
        "# ep: Number of epochs : 12\n",
        "\n",
        "input_shape=INPUT_SIZE\n",
        "num_class=15\n",
        "epochs=25          #Training is executed for 25 epochs for the better visualization of results\n",
        "savepath='/content/drive/MyDrive/Transfer_IDS_IIoT/Optimized_Trained_Models/inceptionresnetv2.h5'\n",
        "\n",
        "#Define Inception Resnet V2 Model\n",
        "model_fine_tune = InceptionResNetV2(include_top=False, weights='imagenet', input_shape=input_shape)\n",
        "for layer in model_fine_tune.layers[:451]:\n",
        "    layer.trainable = False\n",
        "for layer in model_fine_tune.layers[451:]:\n",
        "    layer.trainable = True\n",
        "model = GlobalAveragePooling2D()(model_fine_tune.output)\n",
        "model=Dense(units=128,activation='selu')(model)\n",
        "model=Dropout(0.3)(model)\n",
        "model = Dense(num_class, activation='softmax')(model)\n",
        "model = Model(model_fine_tune.input, model, name='resnet')\n",
        "opt = keras.optimizers.Adamax(learning_rate=0.001, beta_1=0.9, beta_2=0.999, epsilon=1e-08)\n",
        "model.compile(loss='categorical_crossentropy', optimizer=opt, metrics=['accuracy'])\n",
        "\n",
        "#Model Training\n",
        "saveBestModel = kcallbacks.ModelCheckpoint(filepath=savepath, monitor='val_accuracy', verbose=1, save_best_only=True, mode='auto')\n",
        "history=model.fit(train_generator,steps_per_epoch=len(train_generator),epochs=epochs,validation_data=validation_generator,\n",
        "                  validation_steps=len(validation_generator), callbacks=[saveBestModel])\n",
        "\n",
        "#Plot Training and Testing Accuracies\n",
        "plt.plot(history.history['accuracy'])\n",
        "plt.plot(history.history['val_accuracy'])\n",
        "plt.title('InceptionResnetV2 Model Accuracy', fontsize=12, fontweight='bold')\n",
        "plt.ylabel('Accuracy', fontsize=10, fontweight='bold')\n",
        "plt.xlabel('Number of Epochs', fontsize=10, fontweight='bold')\n",
        "plt.legend(['Train', 'Test'], loc='lower right')\n",
        "plt.grid()\n",
        "plt.show()\n",
        "\n",
        "#Plot Training and Testing Loss\n",
        "plt.plot(history.history['loss'])\n",
        "plt.plot(history.history['val_loss'])\n",
        "plt.title('InceptionResnetV2 Model Loss', fontsize=12, fontweight='bold')\n",
        "plt.ylabel('Loss', fontsize=10, fontweight='bold')\n",
        "plt.xlabel('Number of Epochs', fontsize=10, fontweight='bold')\n",
        "plt.legend(['Train', 'Test'], loc='upper right')\n",
        "plt.grid()\n"
      ],
      "metadata": {
        "id": "P1eaQ7-TYs9k"
      },
      "execution_count": null,
      "outputs": []
    },
    {
      "cell_type": "code",
      "source": [
        "#Tuned Hyperparameters for EfficientNetB7 model by Genetic Algorithm\n",
        "# frozen: Frozen Layers : 288\n",
        "# f1: Number of units in dense layer: 128\n",
        "# a1: Activation function : selu\n",
        "# d1: Drop out : 0.4\n",
        "# op: Optimizer : adam\n",
        "# ep: Number of epochs : 15\n",
        "\n",
        "input_shape=INPUT_SIZE\n",
        "num_class=15\n",
        "epochs=25      #Training is executed for 25 epochs for the better visualization of results\n",
        "savepath='/content/drive/MyDrive/Transfer_IDS_IIoT/Optimized_Trained_Models/efficientnetb7.h5'\n",
        "\n",
        "#Define EfficientNetB7 Model\n",
        "model_fine_tune = EfficientNetB7(include_top=False, weights='imagenet', input_shape=input_shape)\n",
        "for layer in model_fine_tune.layers[:288]:\n",
        "    layer.trainable = False\n",
        "for layer in model_fine_tune.layers[288:]:\n",
        "    layer.trainable = True\n",
        "model = GlobalAveragePooling2D()(model_fine_tune.output)\n",
        "model=Dense(units=128,activation='selu')(model)\n",
        "model=Dropout(0.4)(model)\n",
        "model = Dense(num_class, activation='softmax')(model)\n",
        "model = Model(model_fine_tune.input, model, name='efficientnetb7')\n",
        "opt = keras.optimizers.Adam(learning_rate=0.001, beta_1=0.9, beta_2=0.999, epsilon=1e-08)\n",
        "model.compile(loss='categorical_crossentropy', optimizer=opt, metrics=['accuracy'])\n",
        "\n",
        "#Model Training\n",
        "saveBestModel = kcallbacks.ModelCheckpoint(filepath=savepath, monitor='val_accuracy', verbose=1, save_best_only=True, mode='auto')\n",
        "history=model.fit(train_generator,steps_per_epoch=len(train_generator),epochs=epochs,validation_data=validation_generator,\n",
        "                  validation_steps=len(validation_generator), callbacks=[saveBestModel])\n",
        "\n",
        "#Plot Training and Testing Accuracies\n",
        "plt.plot(history.history['accuracy'])\n",
        "plt.plot(history.history['val_accuracy'])\n",
        "plt.title('EfficientNetB7 Model Accuracy', fontsize=12, fontweight='bold')\n",
        "plt.ylabel('Accuracy', fontsize=10, fontweight='bold')\n",
        "plt.xlabel('Number of Epochs', fontsize=10, fontweight='bold')\n",
        "plt.legend(['Train', 'Test'], loc='lower right')\n",
        "plt.grid()\n",
        "plt.show()\n",
        "\n",
        "#Plot Training and Testing Loss\n",
        "plt.plot(history.history['loss'])\n",
        "plt.plot(history.history['val_loss'])\n",
        "plt.title('EfficientNetB7 Model Loss', fontsize=12, fontweight='bold')\n",
        "plt.ylabel('Loss', fontsize=10, fontweight='bold')\n",
        "plt.xlabel('Number of Epochs', fontsize=10, fontweight='bold')\n",
        "plt.legend(['Train', 'Test'], loc='upper right')\n",
        "plt.grid()\n"
      ],
      "metadata": {
        "id": "KlVGcnE4YwOT"
      },
      "execution_count": null,
      "outputs": []
    },
    {
      "cell_type": "code",
      "source": [
        "#Tuned Hyperparameters for  EfficientNetV2L model by Genetic Algorithm\n",
        "# frozen: Frozen Layers : 316\n",
        "# f1: Number of units in dense layer: 128\n",
        "# a1: Activation function : selu\n",
        "# d1: Drop out : 0.5\n",
        "# op: Optimizer : adam\n",
        "# ep: Number of epochs : 19\n",
        "\n",
        "input_shape=INPUT_SIZE\n",
        "num_class=15\n",
        "epochs=25          #Training is executed for 25 epochs for the better visualization of results\n",
        "savepath='/content/drive/MyDrive/Transfer_IDS_IIoT/Optimized_Trained_Models/efficientnetv2l.h5'\n",
        "\n",
        "#Define EfficientNetB7 Model\n",
        "model_fine_tune = EfficientNetV2L(include_top=False, weights='imagenet', input_shape=input_shape)\n",
        "for layer in model_fine_tune.layers[:316]:\n",
        "    layer.trainable = False\n",
        "for layer in model_fine_tune.layers[316:]:\n",
        "    layer.trainable = True\n",
        "model = GlobalAveragePooling2D()(model_fine_tune.output)\n",
        "model=Dense(units=128,activation='selu')(model)\n",
        "model=Dropout(0.5)(model)\n",
        "model = Dense(num_class, activation='softmax')(model)\n",
        "model = Model(model_fine_tune.input, model, name='efficientnetv2-l')\n",
        "opt = keras.optimizers.Adam(learning_rate=0.001, beta_1=0.9, beta_2=0.999, epsilon=1e-08)\n",
        "model.compile(loss='categorical_crossentropy', optimizer=opt, metrics=['accuracy'])\n",
        "\n",
        "#Model Training\n",
        "saveBestModel = kcallbacks.ModelCheckpoint(filepath=savepath, monitor='val_accuracy', verbose=1, save_best_only=True, mode='auto')\n",
        "history=model.fit(train_generator,steps_per_epoch=len(train_generator),epochs=epochs,validation_data=validation_generator,\n",
        "                  validation_steps=len(validation_generator), callbacks=[saveBestModel])\n",
        "\n",
        "#Plot Training and Testing Accuracies\n",
        "plt.plot(history.history['accuracy'])\n",
        "plt.plot(history.history['val_accuracy'])\n",
        "plt.title('EfficientNetV2L Model Accuracy', fontsize=12, fontweight='bold')\n",
        "plt.ylabel('Accuracy', fontsize=10, fontweight='bold')\n",
        "plt.xlabel('Number of Epochs', fontsize=10, fontweight='bold')\n",
        "plt.legend(['Train', 'Test'], loc='lower right')\n",
        "plt.grid()\n",
        "plt.show()\n",
        "\n",
        "#Plot Training and Testing Loss\n",
        "plt.plot(history.history['loss'])\n",
        "plt.plot(history.history['val_loss'])\n",
        "plt.title('EfficientNetV2L Model Loss', fontsize=12, fontweight='bold')\n",
        "plt.ylabel('Loss', fontsize=10, fontweight='bold')\n",
        "plt.xlabel('Number of Epochs', fontsize=10, fontweight='bold')\n",
        "plt.legend(['Train', 'Test'], loc='upper right')\n",
        "plt.grid()"
      ],
      "metadata": {
        "id": "1PNXX9AWY6fv"
      },
      "execution_count": null,
      "outputs": []
    },
    {
      "cell_type": "code",
      "source": [
        "import warnings\n",
        "warnings.filterwarnings(\"ignore\")\n",
        "import keras\n",
        "from keras.models import Model,load_model\n",
        "from keras import Input\n",
        "from keras.layers import concatenate,Dense,Flatten,Dropout\n",
        "from keras.preprocessing.image import  ImageDataGenerator\n",
        "import keras.callbacks as kcallbacks\n",
        "import os\n",
        "import math\n",
        "from keras.utils import plot_model\n",
        "from keras.callbacks import EarlyStopping, ReduceLROnPlateau, ModelCheckpoint, LearningRateScheduler\n",
        "from keras.optimizers import SGD\n",
        "import operator\n",
        "import numpy as np\n",
        "from PIL import Image\n",
        "from collections import defaultdict"
      ],
      "metadata": {
        "id": "J8CwLzoXY-0i"
      },
      "execution_count": null,
      "outputs": []
    },
    {
      "cell_type": "code",
      "source": [
        "#Generate Images from Test Set\n",
        "TARGET_SIZE=(224,224)\n",
        "INPUT_SIZE=(224,224,3)\n",
        "BATCHSIZE=32\n",
        "\n",
        "test_datagen = ImageDataGenerator(rescale=1./255)\n",
        "\n",
        "\n",
        "validation_generator = test_datagen.flow_from_directory(\n",
        "        '/content/drive/MyDrive/Transfer_IDS_IIoT/Datasets/test_A',\n",
        "        target_size=TARGET_SIZE,\n",
        "        batch_size=BATCHSIZE,\n",
        "        class_mode='categorical')"
      ],
      "metadata": {
        "id": "Hi7uJ-msZBmu"
      },
      "execution_count": null,
      "outputs": []
    },
    {
      "cell_type": "code",
      "source": [
        "#generate labels indicating attack (1) or normal (0)\n",
        "label=validation_generator.class_indices\n",
        "label={v: k for k, v in label.items()}"
      ],
      "metadata": {
        "id": "m5VzOuvIZEPR"
      },
      "execution_count": null,
      "outputs": []
    },
    {
      "cell_type": "code",
      "source": [
        "print(label)"
      ],
      "metadata": {
        "colab": {
          "base_uri": "https://localhost:8080/",
          "height": 141
        },
        "id": "Et6MYSAUZGZ-",
        "outputId": "c023e430-74c0-45f4-a17d-c974e70d48bc"
      },
      "execution_count": 2,
      "outputs": [
        {
          "output_type": "error",
          "ename": "NameError",
          "evalue": "name 'label' is not defined",
          "traceback": [
            "\u001b[0;31m---------------------------------------------------------------------------\u001b[0m",
            "\u001b[0;31mNameError\u001b[0m                                 Traceback (most recent call last)",
            "\u001b[0;32m<ipython-input-2-05b876fe2ea8>\u001b[0m in \u001b[0;36m<cell line: 1>\u001b[0;34m()\u001b[0m\n\u001b[0;32m----> 1\u001b[0;31m \u001b[0mprint\u001b[0m\u001b[0;34m(\u001b[0m\u001b[0mlabel\u001b[0m\u001b[0;34m)\u001b[0m\u001b[0;34m\u001b[0m\u001b[0;34m\u001b[0m\u001b[0m\n\u001b[0m",
            "\u001b[0;31mNameError\u001b[0m: name 'label' is not defined"
          ]
        }
      ]
    },
    {
      "cell_type": "code",
      "source": [
        "#Read Images from Test Folders\n",
        "rootdir = '/content/drive/MyDrive/Transfer_IDS_IIoT/Datasets/test_A'\n",
        "true = []          #True Labels\n",
        "test_images=[]\n",
        "for subdir, dirs, files in os.walk(rootdir):\n",
        "    for file in files:\n",
        "        if not (file.endswith(\".jpeg\"))|(file.endswith(\".jpg\"))|(file.endswith(\".png\")):\n",
        "            continue\n",
        "        true.append(subdir.split('/')[-1])\n",
        "        test_images.append(os.path.join(subdir, file))\n",
        "\n",
        "print(true[0],test_images[0])"
      ],
      "metadata": {
        "id": "WZgMotiLZJmB"
      },
      "execution_count": null,
      "outputs": []
    },
    {
      "cell_type": "code",
      "source": [
        "#load model 1: Generic CNN Model\n",
        "cnn_model=load_model('/content/drive/MyDrive/Transfer_IDS_IIoT/Optimized_Trained_Models/generic_cnn.h5')"
      ],
      "metadata": {
        "id": "-JNGeaYAZPP_"
      },
      "execution_count": null,
      "outputs": []
    },
    {
      "cell_type": "code",
      "source": [
        "#load model 2: Xception\n",
        "xception_model=load_model('/content/drive/MyDrive/Transfer_IDS_IIoT/Optimized_Trained_Models/xception.h5')"
      ],
      "metadata": {
        "id": "00duQ34uZUN5"
      },
      "execution_count": null,
      "outputs": []
    },
    {
      "cell_type": "code",
      "source": [
        "#load model 3: VGG16\n",
        "vgg_model=load_model('/content/drive/MyDrive/Transfer_IDS_IIoT/Optimized_Trained_Models/VGG16.h5')"
      ],
      "metadata": {
        "id": "-Jfq0_bTZW5K"
      },
      "execution_count": null,
      "outputs": []
    },
    {
      "cell_type": "code",
      "source": [
        "#load model 4: VGG19\n",
        "vgg19_model=load_model('/content/drive/MyDrive/Transfer_IDS_IIoT/Optimized_Trained_Models/VGG19.h5')"
      ],
      "metadata": {
        "id": "8MSKAUuzZZdE"
      },
      "execution_count": null,
      "outputs": []
    },
    {
      "cell_type": "code",
      "source": [
        "#load model 5: inception\n",
        "incep_model=load_model('/content/drive/MyDrive/Transfer_IDS_IIoT/Optimized_Trained_Models/inception.h5')"
      ],
      "metadata": {
        "id": "bv-7etLRZdfm"
      },
      "execution_count": null,
      "outputs": []
    },
    {
      "cell_type": "code",
      "source": [
        "#load model 6: InceptionResnetV2\n",
        "incepresnetv2_model=load_model('/content/drive/MyDrive/Transfer_IDS_IIoT/Optimized_Trained_Models/inceptionresnetv2.h5')"
      ],
      "metadata": {
        "id": "DoacRvtJZf0k"
      },
      "execution_count": null,
      "outputs": []
    },
    {
      "cell_type": "code",
      "source": [
        "#load model 7: EfficientB7\n",
        "efficientb7_model=load_model('/content/drive/MyDrive/Transfer_IDS_IIoT/Optimized_Trained_Models/efficientnetb7.h5')"
      ],
      "metadata": {
        "id": "2HwIsjnTZiXJ"
      },
      "execution_count": null,
      "outputs": []
    },
    {
      "cell_type": "code",
      "source": [
        "#load model 8: EfficientNetV2L\n",
        "efficientnetv2l_model=load_model('/content/drive/MyDrive/Transfer_IDS_IIoT/Optimized_Trained_Models/efficientnetv2l.h5')"
      ],
      "metadata": {
        "id": "IV4pIDafZlS-"
      },
      "execution_count": null,
      "outputs": []
    },
    {
      "cell_type": "code",
      "source": [
        "pip install scikit-plot"
      ],
      "metadata": {
        "colab": {
          "base_uri": "https://localhost:8080/"
        },
        "id": "dvENcdehZoh8",
        "outputId": "e1e22a80-088a-44a7-e907-0a55d6d24952"
      },
      "execution_count": 3,
      "outputs": [
        {
          "output_type": "stream",
          "name": "stdout",
          "text": [
            "Collecting scikit-plot\n",
            "  Downloading scikit_plot-0.3.7-py3-none-any.whl (33 kB)\n",
            "Requirement already satisfied: matplotlib>=1.4.0 in /usr/local/lib/python3.10/dist-packages (from scikit-plot) (3.7.1)\n",
            "Requirement already satisfied: scikit-learn>=0.18 in /usr/local/lib/python3.10/dist-packages (from scikit-plot) (1.2.2)\n",
            "Requirement already satisfied: scipy>=0.9 in /usr/local/lib/python3.10/dist-packages (from scikit-plot) (1.11.4)\n",
            "Requirement already satisfied: joblib>=0.10 in /usr/local/lib/python3.10/dist-packages (from scikit-plot) (1.3.2)\n",
            "Requirement already satisfied: contourpy>=1.0.1 in /usr/local/lib/python3.10/dist-packages (from matplotlib>=1.4.0->scikit-plot) (1.2.0)\n",
            "Requirement already satisfied: cycler>=0.10 in /usr/local/lib/python3.10/dist-packages (from matplotlib>=1.4.0->scikit-plot) (0.12.1)\n",
            "Requirement already satisfied: fonttools>=4.22.0 in /usr/local/lib/python3.10/dist-packages (from matplotlib>=1.4.0->scikit-plot) (4.49.0)\n",
            "Requirement already satisfied: kiwisolver>=1.0.1 in /usr/local/lib/python3.10/dist-packages (from matplotlib>=1.4.0->scikit-plot) (1.4.5)\n",
            "Requirement already satisfied: numpy>=1.20 in /usr/local/lib/python3.10/dist-packages (from matplotlib>=1.4.0->scikit-plot) (1.25.2)\n",
            "Requirement already satisfied: packaging>=20.0 in /usr/local/lib/python3.10/dist-packages (from matplotlib>=1.4.0->scikit-plot) (23.2)\n",
            "Requirement already satisfied: pillow>=6.2.0 in /usr/local/lib/python3.10/dist-packages (from matplotlib>=1.4.0->scikit-plot) (9.4.0)\n",
            "Requirement already satisfied: pyparsing>=2.3.1 in /usr/local/lib/python3.10/dist-packages (from matplotlib>=1.4.0->scikit-plot) (3.1.1)\n",
            "Requirement already satisfied: python-dateutil>=2.7 in /usr/local/lib/python3.10/dist-packages (from matplotlib>=1.4.0->scikit-plot) (2.8.2)\n",
            "Requirement already satisfied: threadpoolctl>=2.0.0 in /usr/local/lib/python3.10/dist-packages (from scikit-learn>=0.18->scikit-plot) (3.3.0)\n",
            "Requirement already satisfied: six>=1.5 in /usr/local/lib/python3.10/dist-packages (from python-dateutil>=2.7->matplotlib>=1.4.0->scikit-plot) (1.16.0)\n",
            "Installing collected packages: scikit-plot\n",
            "Successfully installed scikit-plot-0.3.7\n"
          ]
        }
      ]
    },
    {
      "cell_type": "code",
      "source": [
        "import seaborn as sn\n",
        "import pandas as pd\n",
        "import scikitplot as skplt\n",
        "import matplotlib.pyplot as plt\n",
        "import seaborn as sns"
      ],
      "metadata": {
        "id": "argtABC8ZsTS"
      },
      "execution_count": null,
      "outputs": []
    },
    {
      "cell_type": "code",
      "source": [
        "#Results generation by Generic CNN\n",
        "\n",
        "\n",
        "%%time\n",
        "import time\n",
        "predict=[]\n",
        "length=len(test_images)\n",
        "t1 = time.time()\n",
        "for i in range(length):\n",
        "    input_img=test_images[i]\n",
        "    test_batch=[]\n",
        "    this_img=np.array(Image.open(input_img))/255 #Read all the images from test set\n",
        "\n",
        "    test_shape=(1,)+this_img.shape\n",
        "    this_img=this_img.reshape(test_shape)\n",
        "    cnn_model_prediction=cnn_model.predict(this_img) #Input image processing using trained master model\n",
        "    #Results generation by Generic CNN\n",
        "    prob=cnn_model_prediction[0,np.argmax(cnn_model_prediction,axis=1)[0]]\n",
        "    res=label[np.argmax(cnn_model_prediction,axis=1)[0]]\n",
        "    predict.append(res)"
      ],
      "metadata": {
        "id": "unUrSEVgZw4M"
      },
      "execution_count": null,
      "outputs": []
    },
    {
      "cell_type": "code",
      "source": [
        "from sklearn.metrics import accuracy_score,precision_score,recall_score,f1_score,cohen_kappa_score\n",
        "acc=accuracy_score(true,predict)\n",
        "pre=precision_score(true,predict,average='weighted')\n",
        "re=recall_score(true,predict,average='weighted')\n",
        "f1=f1_score(true,predict,average='weighted')\n",
        "cks=cohen_kappa_score(true,predict)\n",
        "print('CNN Accuracy: %s'%acc)\n",
        "print('Precision: %s'%pre)\n",
        "print('Recall: %s'%re)\n",
        "print('F1 Score: %s'%f1)\n",
        "print('Cohen Kappa Score: %s'%cks)\n",
        "\n",
        "from sklearn.metrics import classification_report, confusion_matrix, ConfusionMatrixDisplay\n",
        "target_names = ['Backdoor','DDoS_HTTP','DDoS_ICMP','DDoS_TCP','DDoS_UDP','Fingerprinting','MITM', 'Normal','Password','Port_Scanning','Ransomware','SQL_injection','Uploading','Vulnerability_scanner','XSS']\n",
        "skplt.metrics.plot_confusion_matrix(true, predict, normalize=True, x_tick_rotation=90,figsize=(10,10),cmap='Blues' )\n",
        "plt.show()\n",
        "print(classification_report(true, predict, target_names=target_names,digits=4))"
      ],
      "metadata": {
        "id": "_03eVfALZ4Vl"
      },
      "execution_count": null,
      "outputs": []
    },
    {
      "cell_type": "code",
      "source": [
        " #Results generation by Xception\n",
        "\n",
        "\n",
        " %%time\n",
        "import time\n",
        "predict=[]\n",
        "length=len(test_images)\n",
        "t1 = time.time()\n",
        "for i in range(length):\n",
        "    input_img=test_images[i]\n",
        "    test_batch=[]\n",
        "    this_img=np.array(Image.open(input_img))/255 #Read all the images from test set\n",
        "\n",
        "    test_shape=(1,)+this_img.shape\n",
        "    this_img=this_img.reshape(test_shape)\n",
        "    xception_model_prediction=xception_model.predict(this_img) #Input image processing using trained master model\n",
        "    #Results generation by Xception\n",
        "    prob=xception_model_prediction[0,np.argmax(xception_model_prediction,axis=1)[0]]\n",
        "    res=label[np.argmax(xception_model_prediction,axis=1)[0]]\n",
        "    predict.append(res)"
      ],
      "metadata": {
        "id": "IobXL29OZ84m"
      },
      "execution_count": null,
      "outputs": []
    },
    {
      "cell_type": "code",
      "source": [
        "from sklearn.metrics import accuracy_score,precision_score,recall_score,f1_score,cohen_kappa_score\n",
        "acc=accuracy_score(true,predict)\n",
        "pre=precision_score(true,predict,average='weighted')\n",
        "re=recall_score(true,predict,average='weighted')\n",
        "f1=f1_score(true,predict,average='weighted')\n",
        "cks=cohen_kappa_score(true,predict)\n",
        "print('Xception Accuracy: %s'%acc)\n",
        "print('Precision: %s'%pre)\n",
        "print('Recall: %s'%re)\n",
        "print('F1 Score: %s'%f1)\n",
        "print('Cohen Kappa Score: %s'%cks)\n",
        "\n",
        "from sklearn.metrics import classification_report, confusion_matrix, ConfusionMatrixDisplay\n",
        "target_names = ['Backdoor','DDoS_HTTP','DDoS_ICMP','DDoS_TCP','DDoS_UDP','Fingerprinting','MITM', 'Normal','Password','Port_Scanning','Ransomware','SQL_injection','Uploading','Vulnerability_scanner','XSS']\n",
        "skplt.metrics.plot_confusion_matrix(true, predict, normalize=True, x_tick_rotation=90,figsize=(10,10),cmap='Blues' )\n",
        "plt.show()\n",
        "print(classification_report(true, predict, target_names=target_names,digits=4))"
      ],
      "metadata": {
        "id": "3EeIcty2aCNo"
      },
      "execution_count": null,
      "outputs": []
    },
    {
      "cell_type": "code",
      "source": [
        " #Results generation by VGG16\n",
        "\n",
        "\n",
        "%%time\n",
        "predict=[]\n",
        "length=len(test_images)\n",
        "t1 = time.time()\n",
        "for i in range(length):\n",
        "    input_img=test_images[i]\n",
        "    test_batch=[]\n",
        "    this_img=np.array(Image.open(input_img))/255 #Read all the images from test set\n",
        "\n",
        "    test_shape=(1,)+this_img.shape\n",
        "    this_img=this_img.reshape(test_shape)\n",
        "    vgg_model_prediction=vgg_model.predict(this_img) #Input image processing using trained master model\n",
        "    #Results generation by VGG16\n",
        "    prob=vgg_model_prediction[0,np.argmax(vgg_model_prediction,axis=1)[0]]\n",
        "    res=label[np.argmax(vgg_model_prediction,axis=1)[0]]\n",
        "    predict.append(res)"
      ],
      "metadata": {
        "id": "gmG4AbJfaHs1"
      },
      "execution_count": null,
      "outputs": []
    },
    {
      "cell_type": "code",
      "source": [
        "from sklearn.metrics import accuracy_score,precision_score,recall_score,f1_score,cohen_kappa_score\n",
        "acc=accuracy_score(true,predict)\n",
        "pre=precision_score(true,predict,average='weighted')\n",
        "re=recall_score(true,predict,average='weighted')\n",
        "f1=f1_score(true,predict,average='weighted')\n",
        "cks=cohen_kappa_score(true,predict)\n",
        "print('VGG16 Accuracy: %s'%acc)\n",
        "print('Precision: %s'%pre)\n",
        "print('Recall: %s'%re)\n",
        "print('F1 Score: %s'%f1)\n",
        "print('Cohen Kappa Score: %s'%cks)\n",
        "\n",
        "from sklearn.metrics import classification_report, confusion_matrix, ConfusionMatrixDisplay\n",
        "target_names = ['Backdoor','DDoS_HTTP','DDoS_ICMP','DDoS_TCP','DDoS_UDP','Fingerprinting','MITM', 'Normal','Password','Port_Scanning','Ransomware','SQL_injection','Uploading','Vulnerability_scanner','XSS']\n",
        "skplt.metrics.plot_confusion_matrix(true, predict, normalize=True, x_tick_rotation=90,figsize=(10,10),cmap='Blues' )\n",
        "plt.show()\n",
        "print(classification_report(true, predict, target_names=target_names,digits=4))"
      ],
      "metadata": {
        "id": "-_N6BGtLaLQj"
      },
      "execution_count": null,
      "outputs": []
    },
    {
      "cell_type": "code",
      "source": [
        "#Results generation by Generic VGG19\n",
        "\n",
        "\n",
        "%%time\n",
        "predict=[]\n",
        "length=len(test_images)\n",
        "t1 = time.time()\n",
        "for i in range(length):\n",
        "    input_img=test_images[i]\n",
        "    test_batch=[]\n",
        "    this_img=np.array(Image.open(input_img))/255 #Read all the images from test set\n",
        "\n",
        "    test_shape=(1,)+this_img.shape\n",
        "    this_img=this_img.reshape(test_shape)\n",
        "    vgg19_model_prediction=vgg19_model.predict(this_img) #Input image processing using trained master model\n",
        "    #Results generation by Generic VGG19\n",
        "    prob=vgg19_model_prediction[0,np.argmax(vgg19_model_prediction,axis=1)[0]]\n",
        "    res=label[np.argmax(vgg19_model_prediction,axis=1)[0]]\n",
        "    predict.append(res)"
      ],
      "metadata": {
        "id": "ByUps851aS5_"
      },
      "execution_count": null,
      "outputs": []
    },
    {
      "cell_type": "code",
      "source": [
        "from sklearn.metrics import accuracy_score,precision_score,recall_score,f1_score,cohen_kappa_score\n",
        "acc=accuracy_score(true,predict)\n",
        "pre=precision_score(true,predict,average='weighted')\n",
        "re=recall_score(true,predict,average='weighted')\n",
        "f1=f1_score(true,predict,average='weighted')\n",
        "cks=cohen_kappa_score(true,predict)\n",
        "print('VGG19 Accuracy: %s'%acc)\n",
        "print('Precision: %s'%pre)\n",
        "print('Recall: %s'%re)\n",
        "print('F1 Score: %s'%f1)\n",
        "print('Cohen Kappa Score: %s'%cks)\n",
        "\n",
        "from sklearn.metrics import classification_report, confusion_matrix, ConfusionMatrixDisplay\n",
        "target_names = ['Backdoor','DDoS_HTTP','DDoS_ICMP','DDoS_TCP','DDoS_UDP','Fingerprinting','MITM', 'Normal','Password','Port_Scanning','Ransomware','SQL_injection','Uploading','Vulnerability_scanner','XSS']\n",
        "skplt.metrics.plot_confusion_matrix(true, predict, normalize=True, x_tick_rotation=90,figsize=(10,10),cmap='Blues' )\n",
        "plt.show()\n",
        "print(classification_report(true, predict, target_names=target_names,digits=4))"
      ],
      "metadata": {
        "id": "TIjW5a6uadzL"
      },
      "execution_count": null,
      "outputs": []
    },
    {
      "cell_type": "code",
      "source": [
        "#Results generation by Inception\n",
        "\n",
        "\n",
        "\n",
        "%%time\n",
        "predict=[]\n",
        "length=len(test_images)\n",
        "t1 = time.time()\n",
        "for i in range(length):\n",
        "    input_img=test_images[i]\n",
        "    test_batch=[]\n",
        "    this_img=np.array(Image.open(input_img))/255 #Read all the images from test set\n",
        "\n",
        "    test_shape=(1,)+this_img.shape\n",
        "    this_img=this_img.reshape(test_shape)\n",
        "    incep_model_prediction=incep_model.predict(this_img) #Input image processing using trained master model\n",
        "    #Results generation by Inception\n",
        "    prob=incep_model_prediction[0,np.argmax(incep_model_prediction,axis=1)[0]]\n",
        "    res=label[np.argmax(incep_model_prediction,axis=1)[0]]\n",
        "    predict.append(res)"
      ],
      "metadata": {
        "id": "CMnvF8Caag56"
      },
      "execution_count": null,
      "outputs": []
    },
    {
      "cell_type": "code",
      "source": [
        "from sklearn.metrics import accuracy_score,precision_score,recall_score,f1_score,cohen_kappa_score\n",
        "acc=accuracy_score(true,predict)\n",
        "pre=precision_score(true,predict,average='weighted')\n",
        "re=recall_score(true,predict,average='weighted')\n",
        "f1=f1_score(true,predict,average='weighted')\n",
        "cks=cohen_kappa_score(true,predict)\n",
        "print('Inception Accuracy: %s'%acc)\n",
        "print('Precision: %s'%pre)\n",
        "print('Recall: %s'%re)\n",
        "print('F1 Score: %s'%f1)\n",
        "print('Cohen Kappa Score: %s'%cks)\n",
        "\n",
        "from sklearn.metrics import classification_report, confusion_matrix, ConfusionMatrixDisplay\n",
        "target_names = ['Backdoor','DDoS_HTTP','DDoS_ICMP','DDoS_TCP','DDoS_UDP','Fingerprinting','MITM', 'Normal','Password','Port_Scanning','Ransomware','SQL_injection','Uploading','Vulnerability_scanner','XSS']\n",
        "skplt.metrics.plot_confusion_matrix(true, predict, normalize=True, x_tick_rotation=90,figsize=(10,10),cmap='Blues' )\n",
        "plt.show()\n",
        "print(classification_report(true, predict, target_names=target_names,digits=4))"
      ],
      "metadata": {
        "id": "cSmuGzPbakEV"
      },
      "execution_count": null,
      "outputs": []
    },
    {
      "cell_type": "code",
      "source": [
        "#Results generation by InceptionResnetV2\n",
        "\n",
        "\n",
        "%%time\n",
        "predict=[]\n",
        "length=len(test_images)\n",
        "t1 = time.time()\n",
        "for i in range(length):\n",
        "    input_img=test_images[i]\n",
        "    test_batch=[]\n",
        "    this_img=np.array(Image.open(input_img))/255 #Read all the images from test set\n",
        "\n",
        "    test_shape=(1,)+this_img.shape\n",
        "    this_img=this_img.reshape(test_shape)\n",
        "    incepresnetv2_model_prediction=incepresnetv2_model.predict(this_img) #Input image processing using trained master model\n",
        "    #Results generation by InceptionResnetV2\n",
        "    prob=incepresnetv2_model_prediction[0,np.argmax(incepresnetv2_model_prediction,axis=1)[0]]\n",
        "    res=label[np.argmax(incepresnetv2_model_prediction,axis=1)[0]]\n",
        "    predict.append(res)"
      ],
      "metadata": {
        "id": "BSu22DT0am6a"
      },
      "execution_count": null,
      "outputs": []
    },
    {
      "cell_type": "code",
      "source": [
        "from sklearn.metrics import accuracy_score,precision_score,recall_score,f1_score,cohen_kappa_score\n",
        "acc=accuracy_score(true,predict)\n",
        "pre=precision_score(true,predict,average='weighted')\n",
        "re=recall_score(true,predict,average='weighted')\n",
        "f1=f1_score(true,predict,average='weighted')\n",
        "cks=cohen_kappa_score(true,predict)\n",
        "print('InseptionResnetV2 Accuracy: %s'%acc)\n",
        "print('Precision: %s'%pre)\n",
        "print('Recall: %s'%re)\n",
        "print('F1 Score: %s'%f1)\n",
        "print('Cohen Kappa Score: %s'%cks)\n",
        "\n",
        "from sklearn.metrics import classification_report, confusion_matrix, ConfusionMatrixDisplay\n",
        "target_names = ['Backdoor','DDoS_HTTP','DDoS_ICMP','DDoS_TCP','DDoS_UDP','Fingerprinting','MITM', 'Normal','Password','Port_Scanning','Ransomware','SQL_injection','Uploading','Vulnerability_scanner','XSS']\n",
        "skplt.metrics.plot_confusion_matrix(true, predict, normalize=True, x_tick_rotation=90,figsize=(10,10),cmap='Blues' )\n",
        "plt.show()\n",
        "print(classification_report(true, predict, target_names=target_names,digits=4))"
      ],
      "metadata": {
        "id": "Rf1x7lIWar68"
      },
      "execution_count": null,
      "outputs": []
    },
    {
      "cell_type": "code",
      "source": [
        "#Results generation by EfficientNetB7\n",
        "\n",
        "\n",
        "%%time\n",
        "predict=[]\n",
        "length=len(test_images)\n",
        "t1 = time.time()\n",
        "for i in range(length):\n",
        "    input_img=test_images[i]\n",
        "    test_batch=[]\n",
        "    this_img=np.array(Image.open(input_img))/255 #Read all the images from test set\n",
        "\n",
        "    test_shape=(1,)+this_img.shape\n",
        "    this_img=this_img.reshape(test_shape)\n",
        "    efficientb7_model_prediction=efficientb7_model.predict(this_img) #Input image processing using trained master model\n",
        "    #Results generation by EfficientNetB7\n",
        "    prob=efficientb7_model_prediction[0,np.argmax(efficientb7_model_prediction,axis=1)[0]]\n",
        "    res=label[np.argmax(efficientb7_model_prediction,axis=1)[0]]\n",
        "    predict.append(res)"
      ],
      "metadata": {
        "id": "pqNAOqEdavUw"
      },
      "execution_count": null,
      "outputs": []
    },
    {
      "cell_type": "code",
      "source": [
        "from sklearn.metrics import accuracy_score,precision_score,recall_score,f1_score,cohen_kappa_score\n",
        "acc=accuracy_score(true,predict)\n",
        "pre=precision_score(true,predict,average='weighted')\n",
        "re=recall_score(true,predict,average='weighted')\n",
        "f1=f1_score(true,predict,average='weighted')\n",
        "cks=cohen_kappa_score(true,predict)\n",
        "print('Efficient Net B7 Accuracy: %s'%acc)\n",
        "print('Precision: %s'%pre)\n",
        "print('Recall: %s'%re)\n",
        "print('F1 Score: %s'%f1)\n",
        "print('Cohen Kappa Score: %s'%cks)\n",
        "\n",
        "from sklearn.metrics import classification_report, confusion_matrix, ConfusionMatrixDisplay\n",
        "target_names = ['Backdoor','DDoS_HTTP','DDoS_ICMP','DDoS_TCP','DDoS_UDP','Fingerprinting','MITM', 'Normal','Password','Port_Scanning','Ransomware','SQL_injection','Uploading','Vulnerability_scanner','XSS']\n",
        "skplt.metrics.plot_confusion_matrix(true, predict, normalize=True, x_tick_rotation=90,figsize=(10,10),cmap='Blues' )\n",
        "plt.show()\n",
        "print(classification_report(true, predict, target_names=target_names,digits=4))"
      ],
      "metadata": {
        "id": "2FXQnZMya0wb"
      },
      "execution_count": null,
      "outputs": []
    },
    {
      "cell_type": "code",
      "source": [
        "#Results generation by EfficientNetV2L\n",
        "\n",
        "\n",
        "%%time\n",
        "predict=[]\n",
        "length=len(test_images)\n",
        "t1 = time.time()\n",
        "for i in range(length):\n",
        "    input_img=test_images[i]\n",
        "    test_batch=[]\n",
        "    this_img=np.array(Image.open(input_img))/255 #Read all the images from test set\n",
        "\n",
        "    test_shape=(1,)+this_img.shape\n",
        "    this_img=this_img.reshape(test_shape)\n",
        "    efficientnetv2l_model_prediction=efficientnetv2l_model.predict(this_img) #Input image processing using trained master model\n",
        "    #Results generation by EfficientNetV2L\n",
        "    prob=efficientnetv2l_model_prediction[0,np.argmax(efficientnetv2l_model_prediction,axis=1)[0]]\n",
        "    res=label[np.argmax(efficientnetv2l_model_prediction,axis=1)[0]]\n",
        "    predict.append(res)"
      ],
      "metadata": {
        "id": "u9mFrRdAa34Q"
      },
      "execution_count": null,
      "outputs": []
    },
    {
      "cell_type": "code",
      "source": [
        "from sklearn.metrics import accuracy_score,precision_score,recall_score,f1_score,cohen_kappa_score\n",
        "acc=accuracy_score(true,predict)\n",
        "pre=precision_score(true,predict,average='weighted')\n",
        "re=recall_score(true,predict,average='weighted')\n",
        "f1=f1_score(true,predict,average='weighted')\n",
        "cks=cohen_kappa_score(true,predict)\n",
        "print('Efficient NetV2L Accuracy: %s'%acc)\n",
        "print('Precision: %s'%pre)\n",
        "print('Recall: %s'%re)\n",
        "print('F1 Score: %s'%f1)\n",
        "print('Cohen Kappa Score: %s'%cks)\n",
        "\n",
        "from sklearn.metrics import classification_report, confusion_matrix, ConfusionMatrixDisplay\n",
        "target_names = ['Backdoor','DDoS_HTTP','DDoS_ICMP','DDoS_TCP','DDoS_UDP','Fingerprinting','MITM', 'Normal','Password','Port_Scanning','Ransomware','SQL_injection','Uploading','Vulnerability_scanner','XSS']\n",
        "skplt.metrics.plot_confusion_matrix(true, predict, normalize=True, x_tick_rotation=90,figsize=(10,10),cmap='Blues' )\n",
        "plt.show()\n",
        "print(classification_report(true, predict, target_names=target_names,digits=4))"
      ],
      "metadata": {
        "id": "rbElecR-a7Oc"
      },
      "execution_count": null,
      "outputs": []
    },
    {
      "cell_type": "code",
      "source": [
        "##################################################\n",
        "\n",
        "\n",
        "import time\n",
        "predict=[]\n",
        "length=len(test_images)\n",
        "t1 = time.time()\n",
        "for i in range((length//127)+1):\n",
        "    input_img=test_images[127*i:127*(i+1)]\n",
        "    test_batch=[]\n",
        "    for path in input_img:\n",
        "        this_img=np.array(Image.open(path))/255\n",
        "        test_batch.append(this_img)\n",
        "    #Results generation by Generic CNN\n",
        "    cnn_model_prediction=cnn_model.predict(np.array(test_batch))\n",
        "    cnn_model_prediction=list(np.argmax(cnn_model_prediction,axis=1))\n",
        "    cnn_model_prediction=[label[con] for con in cnn_model_prediction]\n",
        "    #Results generation by VGG19\n",
        "    vgg19_model_prediction=vgg19_model.predict(np.array(test_batch))\n",
        "    vgg19_model_prediction=list(np.argmax(vgg19_model_prediction,axis=1))\n",
        "    vgg19_model_prediction=[label[con] for con in vgg19_model_prediction]\n",
        "    #Results generation by Inception\n",
        "    incep_model_prediction=incep_model.predict(np.array(test_batch))\n",
        "    incep_model_prediction=list(np.argmax(incep_model_prediction,axis=1))\n",
        "    incep_model_prediction=[label[con] for con in incep_model_prediction]\n",
        "    #Results generation by InceptionResnetV2\n",
        "    incepresnetv2_model_prediction=incepresnetv2_model.predict(np.array(test_batch))\n",
        "    incepresnetv2_model_prediction=list(np.argmax(incepresnetv2_model_prediction,axis=1))\n",
        "    incepresnetv2_model_prediction=[label[con] for con in incepresnetv2_model_prediction]\n",
        "    #Results generation by EfficientNetV2L\n",
        "    efficientnetv2l_model_prediction=efficientnetv2l_model.predict(np.array(test_batch))\n",
        "    efficientnetv2l_model_prediction=list(np.argmax(efficientnetv2l_model_prediction,axis=1))\n",
        "    efficientnetv2l_model_prediction=[label[con] for con in efficientnetv2l_model_prediction]\n",
        "\n",
        "    #Results integration of Five best-performing models\n",
        "    predict_batch=[]\n",
        "    for i,j,k,p,q in zip(cnn_model_prediction, vgg19_model_prediction,incep_model_prediction,incepresnetv2_model_prediction,efficientnetv2l_model_prediction,):\n",
        "        count=defaultdict(int)\n",
        "        count[i]+=1\n",
        "        count[j]+=1\n",
        "        count[k]+=1\n",
        "        count[p]+=1\n",
        "        count[q]+=1\n",
        "        #Arrang the predicted results in descending order\n",
        "        predict_one=sorted(count.items(), key=operator.itemgetter(1),reverse=True)[0][0]\n",
        "        predict_batch.append(predict_one)\n",
        "    predict.append(predict_batch)\n",
        "t2 = time.time()\n",
        "print('The Testing Time is :%f seconds' % (t2-t1))"
      ],
      "metadata": {
        "id": "_gni8b5na_h5"
      },
      "execution_count": null,
      "outputs": []
    },
    {
      "cell_type": "code",
      "source": [
        "from sklearn.metrics import accuracy_score,precision_score,recall_score,f1_score,cohen_kappa_score\n",
        "acc=accuracy_score(true,predict)\n",
        "pre=precision_score(true,predict,average='weighted')\n",
        "re=recall_score(true,predict,average='weighted')\n",
        "f1=f1_score(true,predict,average='weighted')\n",
        "cks=cohen_kappa_score(true,predict)\n",
        "print('Ensemble Accuracy: %s'%acc)\n",
        "print('Precision: %s'%pre)\n",
        "print('Recall: %s'%re)\n",
        "print('F1 Score: %s'%f1)\n",
        "print('Cohen Kappa Score: %s'%cks)\n",
        "\n",
        "from sklearn.metrics import classification_report, confusion_matrix, ConfusionMatrixDisplay\n",
        "target_names = ['Backdoor','DDoS_HTTP','DDoS_ICMP','DDoS_TCP','DDoS_UDP','Fingerprinting','MITM', 'Normal','Password','Port_Scanning','Ransomware','SQL_injection','Uploading','Vulnerability_scanner','XSS']\n",
        "skplt.metrics.plot_confusion_matrix(true, predict, normalize=True, x_tick_rotation=90,figsize=(10,10),cmap='Blues' )\n",
        "plt.show()\n",
        "print(classification_report(true, predict, target_names=target_names,digits=4))"
      ],
      "metadata": {
        "id": "wuXjIIHPbEh1"
      },
      "execution_count": null,
      "outputs": []
    }
  ]
}