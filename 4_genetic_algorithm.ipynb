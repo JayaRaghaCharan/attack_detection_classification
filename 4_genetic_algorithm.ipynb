{
  "cells": [
    {
      "cell_type": "code",
      "source": [
        "from google.colab import drive\n",
        "drive.mount('/content/drive')"
      ],
      "metadata": {
        "colab": {
          "base_uri": "https://localhost:8080/"
        },
        "id": "ZE4RRDHpSJ6O",
        "outputId": "b52e28d8-ff6d-435f-aae9-f808d279d3aa"
      },
      "execution_count": null,
      "outputs": [
        {
          "output_type": "stream",
          "name": "stdout",
          "text": [
            "Drive already mounted at /content/drive; to attempt to forcibly remount, call drive.mount(\"/content/drive\", force_remount=True).\n"
          ]
        }
      ]
    },
    {
      "cell_type": "code",
      "execution_count": null,
      "metadata": {
        "id": "6FMRvu0IEyxJ"
      },
      "outputs": [],
      "source": [
        "import os\n",
        "from keras.preprocessing.image import  ImageDataGenerator\n",
        "from keras.layers import Dense,Flatten,GlobalAveragePooling2D,Input,Conv2D,MaxPooling2D,Dropout\n",
        "from keras.models import Model,load_model,Sequential\n",
        "from keras.callbacks import EarlyStopping"
      ]
    },
    {
      "cell_type": "code",
      "execution_count": null,
      "metadata": {
        "id": "Tcc_DZiAFRQp",
        "colab": {
          "base_uri": "https://localhost:8080/"
        },
        "outputId": "651e440f-4444-40ec-b948-0483a49cdd7d"
      },
      "outputs": [
        {
          "output_type": "stream",
          "name": "stdout",
          "text": [
            "Found 5380 images belonging to 15 classes.\n",
            "Found 1352 images belonging to 15 classes.\n"
          ]
        }
      ],
      "source": [
        "#generate training and test images\n",
        "TARGET_SIZE=(224,224)\n",
        "INPUT_SIZE=(224,224,3)\n",
        "BATCHSIZE=32\t#could try 128 or 32\n",
        "\n",
        "#Normalization\n",
        "train_datagen = ImageDataGenerator(rescale=1./255)\n",
        "\n",
        "test_datagen = ImageDataGenerator(rescale=1./255)\n",
        "\n",
        "train_generator = train_datagen.flow_from_directory(\n",
        "        '/content/drive/MyDrive/Transfer_IDS_IIoT/Datasets/train_A',\n",
        "        target_size=TARGET_SIZE,\n",
        "        batch_size=BATCHSIZE,\n",
        "        class_mode='categorical')\n",
        "validation_generator = test_datagen.flow_from_directory(\n",
        "        '/content/drive/MyDrive/Transfer_IDS_IIoT/Datasets/test_A',\n",
        "        target_size=TARGET_SIZE,\n",
        "        batch_size=BATCHSIZE,\n",
        "        class_mode='categorical')"
      ]
    },
    {
      "cell_type": "code",
      "execution_count": null,
      "metadata": {
        "id": "y0T_gLMwFfV_"
      },
      "outputs": [],
      "source": [
        "input_shape=INPUT_SIZE\n",
        "num_class=15\n"
      ]
    },
    {
      "cell_type": "code",
      "execution_count": null,
      "metadata": {
        "id": "xPD1R4HNFnSV"
      },
      "outputs": [],
      "source": [
        "#Hyperparameters\n",
        "# f1,f2,f3 : Filter Sizes\n",
        "# k : kernel_size\n",
        "# a1, a2: activation functions\n",
        "# d1: drop out\n",
        "# op: optimizer\n",
        "# ep: number of epochs\n",
        "\n",
        "def CNN_model( f1, f2, f3, k, a1, a2, d1, op, ep):\n",
        "  model = Sequential()\n",
        "  model.add(Conv2D(filters = f1, kernel_size = (k, k), strides=(1,1), input_shape=input_shape,padding='same',activation=a1))\n",
        "  model.add(Conv2D(filters = f1, kernel_size = (k, k), strides=(1,1), padding='same',activation=a1))\n",
        "  model.add(MaxPooling2D(pool_size=(2,2)))\n",
        "  model.add(Conv2D(filters = f2, kernel_size = (k, k), strides=(1,1),padding='same',activation = a2))\n",
        "  model.add(Conv2D(filters = f2, kernel_size = (k, k), strides=(1,1),padding='same',activation = a2))\n",
        "  model.add(GlobalAveragePooling2D())\n",
        "  model.add(Dense(units = f3, activation = a2))\n",
        "  model.add(Dropout(rate=d1))\n",
        "  model.add(Dense(num_class,activation='softmax'))\n",
        "  model.compile(loss='categorical_crossentropy',optimizer=op,metrics=['accuracy'])\n",
        "  es = EarlyStopping(monitor=\"val_accuracy\", patience = 5)\n",
        "  model.fit(train_generator,steps_per_epoch=len(train_generator),epochs=ep,validation_data=validation_generator,\n",
        "            validation_steps=len(validation_generator), callbacks=[es], verbose=0)\n",
        "  return model"
      ]
    },
    {
      "cell_type": "code",
      "execution_count": null,
      "metadata": {
        "id": "jYE7I26RFwQd"
      },
      "outputs": [],
      "source": [
        "from random import choice\n",
        "from random import uniform\n",
        "from numpy.random import randint"
      ]
    },
    {
      "cell_type": "code",
      "execution_count": null,
      "metadata": {
        "id": "fWVkd4waFzNe"
      },
      "outputs": [],
      "source": [
        "def initialization_cnn():\n",
        "  parameters = {}\n",
        "  f1 = choice([32, 64])\n",
        "  parameters[\"f1\"] = f1\n",
        "  f2 = choice([64, 128])\n",
        "  parameters[\"f2\"] = f2\n",
        "  f3 = choice([128, 256])\n",
        "  parameters[\"f3\"] = f3\n",
        "  k = choice([3,5])\n",
        "  parameters[\"k\"] = k\n",
        "  a1 = choice([\"relu\", \"selu\", \"elu\"])\n",
        "  parameters[\"a1\"] = a1\n",
        "  a2 = choice([\"relu\", \"selu\", \"elu\"])\n",
        "  parameters[\"a2\"] = a2\n",
        "  d1 = round(uniform(0.1, 0.6), 1)\n",
        "  parameters[\"d1\"] = d1\n",
        "  op = choice([\"adam\", \"nadam\", \"adamax\", \"adagrad\"])\n",
        "  parameters[\"op\"] = op\n",
        "  ep = randint(10, 25)\n",
        "  parameters[\"ep\"] = ep\n",
        "  return parameters"
      ]
    },
    {
      "cell_type": "code",
      "execution_count": null,
      "metadata": {
        "id": "Rx65TrfEF3h2"
      },
      "outputs": [],
      "source": [
        "def generate_population_cnn(n):\n",
        "  population = []\n",
        "  for i in range(n):\n",
        "    chromosome = initialization_cnn()\n",
        "    population.append(chromosome)\n",
        "  return population"
      ]
    },
    {
      "cell_type": "code",
      "execution_count": null,
      "metadata": {
        "id": "OP3qELZJF6mX"
      },
      "outputs": [],
      "source": [
        "# Fitness evaluation metric: Classification Accuracy\n",
        "def fitness_evaluation(model):\n",
        "  metrics = model.evaluate(validation_generator)\n",
        "  return metrics[1]"
      ]
    },
    {
      "cell_type": "code",
      "execution_count": null,
      "metadata": {
        "id": "6Pc4V9GLF9Nv"
      },
      "outputs": [],
      "source": [
        "# Roulette wheel selection method\n",
        "def selection(population_fitness):\n",
        "  total = sum(population_fitness)\n",
        "  percentage = [round((x/total) * 100) for x in population_fitness]\n",
        "  selection_wheel = []\n",
        "  for pop_index,num in enumerate(percentage):\n",
        "    selection_wheel.extend([pop_index]*num)\n",
        "  parent1_ind = choice(selection_wheel)\n",
        "  parent2_ind = choice(selection_wheel)\n",
        "  return [parent1_ind, parent2_ind]"
      ]
    },
    {
      "cell_type": "code",
      "execution_count": null,
      "metadata": {
        "id": "b0wzD29CGATg"
      },
      "outputs": [],
      "source": [
        "def crossover_cnn(parent1, parent2):\n",
        "  child1 = {}\n",
        "  child2 = {}\n",
        "\n",
        "  child1[\"f1\"] = choice([parent1[\"f1\"], parent2[\"f1\"]])\n",
        "  child1[\"f2\"] = choice([parent1[\"f2\"], parent2[\"f2\"]])\n",
        "  child1[\"f3\"] = choice([parent1[\"f3\"], parent2[\"f3\"]])\n",
        "\n",
        "  child2[\"f1\"] = choice([parent1[\"f1\"], parent2[\"f1\"]])\n",
        "  child2[\"f2\"] = choice([parent1[\"f2\"], parent2[\"f2\"]])\n",
        "  child2[\"f3\"] = choice([parent1[\"f3\"], parent2[\"f3\"]])\n",
        "\n",
        "  child1[\"k\"] = choice([parent1[\"k\"], parent2[\"k\"]])\n",
        "  child2[\"k\"] = choice([parent1[\"k\"], parent2[\"k\"]])\n",
        "\n",
        "  child1[\"a1\"] = parent1[\"a2\"]\n",
        "  child2[\"a1\"] = parent2[\"a2\"]\n",
        "\n",
        "  child1[\"a2\"] = parent2[\"a1\"]\n",
        "  child2[\"a2\"] = parent1[\"a1\"]\n",
        "\n",
        "  child1[\"d1\"] = parent1[\"d1\"]\n",
        "  child2[\"d1\"] = parent2[\"d1\"]\n",
        "\n",
        "  child1[\"op\"] = parent2[\"op\"]\n",
        "  child2[\"op\"] = parent1[\"op\"]\n",
        "\n",
        "  child1[\"ep\"] = parent1[\"ep\"]\n",
        "  child2[\"ep\"] = parent2[\"ep\"]\n",
        "  return [child1, child2]"
      ]
    },
    {
      "cell_type": "code",
      "execution_count": null,
      "metadata": {
        "id": "zn6gdLo5GFFQ"
      },
      "outputs": [],
      "source": [
        "def mutation_cnn(chromosome):\n",
        "  flag = randint(0,40)\n",
        "  if flag <= 20:\n",
        "    chromosome[\"ep\"] += randint(0, 10)\n",
        "  return chromosome"
      ]
    },
    {
      "cell_type": "code",
      "execution_count": null,
      "metadata": {
        "id": "_Er4a9u-GITE",
        "colab": {
          "base_uri": "https://localhost:8080/"
        },
        "outputId": "ecc97e22-f1c6-4405-f9af-e416873bb18a"
      },
      "outputs": [
        {
          "output_type": "stream",
          "name": "stdout",
          "text": [
            "43/43 [==============================] - 6s 133ms/step - loss: 0.0444 - accuracy: 0.9919\n",
            "Parameters:  {'f1': 32, 'f2': 64, 'f3': 256, 'k': 5, 'a1': 'elu', 'a2': 'elu', 'd1': 0.2, 'op': 'adamax', 'ep': 15}\n",
            "Accuracy:  0.99186\n",
            "Parameters:  {'f1': 64, 'f2': 128, 'f3': 256, 'k': 3, 'a1': 'relu', 'a2': 'elu', 'd1': 0.4, 'op': 'adam', 'ep': 20}\n",
            "Invalid parameters - Build fail\n"
          ]
        }
      ],
      "source": [
        "generations = 5\n",
        "threshold = 90\n",
        "num_pop = 5\n",
        "\n",
        "population = generate_population_cnn(num_pop)\n",
        "\n",
        "for generation in range(generations):\n",
        "\n",
        "  population_fitness = []\n",
        "  for chromosome in population:\n",
        "    f1 = chromosome[\"f1\"]\n",
        "    f2 = chromosome[\"f2\"]\n",
        "    f3 = chromosome[\"f3\"]\n",
        "    k = chromosome[\"k\"]\n",
        "    a1 = chromosome[\"a1\"]\n",
        "    a2 = chromosome[\"a2\"]\n",
        "    d1 = chromosome[\"d1\"]\n",
        "    op = chromosome[\"op\"]\n",
        "    ep = chromosome[\"ep\"]\n",
        "\n",
        "    try:\n",
        "      model = CNN_model(f1, f2, f3, k, a1, a2, d1, op, ep)\n",
        "      acc = fitness_evaluation(model)\n",
        "      print(\"Parameters: \", chromosome)\n",
        "      print(\"Accuracy: \", round(acc,5))\n",
        "    except:\n",
        "      acc=0\n",
        "      print(\"Parameters: \", chromosome)\n",
        "      print(\"Invalid parameters - Build fail\")\n",
        "\n",
        "    population_fitness.append(acc)\n",
        "\n",
        "  parents_ind = selection(population_fitness)\n",
        "  parent1 = population[parents_ind[0]]\n",
        "  parent2 = population[parents_ind[1]]\n",
        "\n",
        "  children = crossover_cnn(parent1, parent2)\n",
        "  child1 = mutation_cnn(children[0])\n",
        "  child2 = mutation_cnn(children[1])\n",
        "\n",
        "  population.append(child1)\n",
        "  population.append(child2)\n",
        "\n",
        "  print(\"Generation \", generation+1,\" Outcome: \")\n",
        "  if max(population_fitness) >= threshold:\n",
        "    print(\"Obtained desired accuracy: \", max(population_fitness))\n",
        "    break\n",
        "  else:\n",
        "    print(\"Maximum accuracy in generation {} : {}\".format(generation+1, max(population_fitness)))\n",
        "\n",
        "  first_min = min(population_fitness)\n",
        "  first_min_ind = population_fitness.index(first_min)\n",
        "  population.remove(population[first_min_ind])\n",
        "  second_min = min(population_fitness)\n",
        "  second_min_ind = population_fitness.index(second_min)\n",
        "  population.remove(population[second_min_ind])"
      ]
    },
    {
      "cell_type": "code",
      "execution_count": null,
      "metadata": {
        "id": "zJWDWke_GUUx"
      },
      "outputs": [],
      "source": [
        "#      XCEPTION MODEL\n",
        "\n",
        "\n",
        "from keras.applications.xception import  Xception"
      ]
    },
    {
      "cell_type": "code",
      "source": [
        "#Hyperparameters\n",
        "# frozen: Frozen layers\n",
        "# f1: Number of units in dense layer\n",
        "# a1: Activation functions\n",
        "# d1: Drop out\n",
        "# op: Optimizer\n",
        "# ep: Number of epochs\n",
        "\n",
        "#Define Xception Model\n",
        "def Xception_model(frozen, f1, a1, d1, op, ep):\n",
        "  model_fine_tune = Xception(include_top=False, weights='imagenet', input_shape=input_shape)\n",
        "  for layer in model_fine_tune.layers[:frozen]:           #125\n",
        "      layer.trainable = False\n",
        "  for layer in model_fine_tune.layers[frozen:]:\n",
        "      layer.trainable = True\n",
        "  model = GlobalAveragePooling2D()(model_fine_tune.output)\n",
        "  model=Dense(units=f1,activation=a1)(model)        #256\n",
        "  model=Dropout(d1)(model)                             #0.4\n",
        "  model = Dense(num_class, activation='softmax')(model)\n",
        "  model = Model(model_fine_tune.input, model, name='xception')\n",
        "  model.compile(loss='categorical_crossentropy',optimizer=op,metrics=['accuracy'])\n",
        "  es = EarlyStopping(monitor=\"val_accuracy\", patience = 2)\n",
        "  model.fit(train_generator,steps_per_epoch=len(train_generator),epochs=ep,validation_data=validation_generator,\n",
        "            validation_steps=len(validation_generator), callbacks=[es], verbose=0)\n",
        "  return model"
      ],
      "metadata": {
        "id": "VwUaOPOeTQsN"
      },
      "execution_count": null,
      "outputs": []
    },
    {
      "cell_type": "code",
      "source": [
        "from random import choice\n",
        "from random import uniform\n",
        "from numpy.random import randint"
      ],
      "metadata": {
        "id": "TiS20zyUTW_P"
      },
      "execution_count": null,
      "outputs": []
    },
    {
      "cell_type": "code",
      "source": [
        "def initialization_xception():\n",
        "  parameters = {}\n",
        "  frozen = choice(range(100, 150, 1))\n",
        "  parameters[\"frozen\"] = frozen\n",
        "  f1 = choice([128, 256])\n",
        "  parameters[\"f1\"] = f1\n",
        "  a1 = choice([\"relu\", \"selu\", \"elu\"])\n",
        "  parameters[\"a1\"] = a1\n",
        "  d1 = round(uniform(0.1, 0.6), 1)\n",
        "  parameters[\"d1\"] = d1\n",
        "  op = choice([\"adam\", \"nadam\", \"adamax\", \"adagrad\"])\n",
        "  parameters[\"op\"] = op\n",
        "  ep = randint(10, 25)\n",
        "  parameters[\"ep\"] = ep\n",
        "  return parameters"
      ],
      "metadata": {
        "id": "B_wU0WWZTctP"
      },
      "execution_count": null,
      "outputs": []
    },
    {
      "cell_type": "code",
      "source": [
        "def generate_population_xception(n):\n",
        "  population = []\n",
        "  for i in range(n):\n",
        "    chromosome = initialization_xception()\n",
        "    population.append(chromosome)\n",
        "  return population"
      ],
      "metadata": {
        "id": "wSYnEYgHTg3-"
      },
      "execution_count": null,
      "outputs": []
    },
    {
      "cell_type": "code",
      "source": [
        "# Fitness evaluation metric: Classification Accuracy\n",
        "def fitness_evaluation(model):\n",
        "  metrics = model.evaluate(validation_generator)\n",
        "  return metrics[1]"
      ],
      "metadata": {
        "id": "QDbd3GmHTlIA"
      },
      "execution_count": null,
      "outputs": []
    },
    {
      "cell_type": "code",
      "source": [
        "# Roulette wheel selection method\n",
        "def selection(population_fitness):\n",
        "  total = sum(population_fitness)\n",
        "  percentage = [round((x/total) * 100) for x in population_fitness]\n",
        "  selection_wheel = []\n",
        "  for pop_index,num in enumerate(percentage):\n",
        "    selection_wheel.extend([pop_index]*num)\n",
        "  parent1_ind = choice(selection_wheel)\n",
        "  parent2_ind = choice(selection_wheel)\n",
        "  return [parent1_ind, parent2_ind]"
      ],
      "metadata": {
        "id": "q4ggG_EHTtGD"
      },
      "execution_count": null,
      "outputs": []
    },
    {
      "cell_type": "code",
      "source": [
        "def crossover_xception(parent1, parent2):\n",
        "  child1 = {}\n",
        "  child2 = {}\n",
        "\n",
        "  child1[\"frozen\"] = choice([parent1[\"frozen\"], parent2[\"frozen\"]])\n",
        "  child2[\"frozen\"] = choice([parent1[\"frozen\"], parent2[\"frozen\"]])\n",
        "\n",
        "  child1[\"f1\"] = choice([parent1[\"f1\"], parent2[\"f1\"]])\n",
        "  child2[\"f1\"] = choice([parent1[\"f1\"], parent2[\"f1\"]])\n",
        "\n",
        "  child1[\"a1\"] = parent2[\"a1\"]\n",
        "  child2[\"a1\"] = parent1[\"a1\"]\n",
        "\n",
        "  child1[\"d1\"] = parent1[\"d1\"]\n",
        "  child2[\"d1\"] = parent2[\"d1\"]\n",
        "\n",
        "  child1[\"op\"] = parent1[\"op\"]\n",
        "  child2[\"op\"] = parent2[\"op\"]\n",
        "\n",
        "  child1[\"ep\"] = parent1[\"ep\"]\n",
        "  child2[\"ep\"] = parent2[\"ep\"]\n",
        "  return [child1, child2]"
      ],
      "metadata": {
        "id": "0zlpp1xMTuZP"
      },
      "execution_count": null,
      "outputs": []
    },
    {
      "cell_type": "code",
      "source": [
        "def mutation_xception(chromosome):\n",
        "  flag = randint(0,40)\n",
        "  if flag <= 20:\n",
        "    chromosome[\"ep\"] += randint(0, 10)\n",
        "  return chromosome"
      ],
      "metadata": {
        "id": "GPDUKnsOTyQ6"
      },
      "execution_count": null,
      "outputs": []
    },
    {
      "cell_type": "code",
      "source": [
        "generations = 5\n",
        "threshold = 90\n",
        "num_pop = 3\n",
        "\n",
        "population = generate_population_xception(num_pop)\n",
        "\n",
        "for generation in range(generations):\n",
        "\n",
        "  population_fitness = []\n",
        "  for chromosome in population:\n",
        "    frozen = chromosome[\"frozen\"]\n",
        "    f1 = chromosome[\"f1\"]\n",
        "    a1 = chromosome[\"a1\"]\n",
        "    d1 = chromosome[\"d1\"]\n",
        "    op = chromosome[\"op\"]\n",
        "    ep = chromosome[\"ep\"]\n",
        "\n",
        "    try:\n",
        "      model = Xception_model(frozen, f1, a1, d1, op, ep)\n",
        "      acc = fitness_evaluation(model)\n",
        "      print(\"Parameters: \", chromosome)\n",
        "      print(\"Accuracy: \", round(acc,5))\n",
        "    except:\n",
        "      acc=0\n",
        "      print(\"Parameters: \", chromosome)\n",
        "      print(\"Invalid parameters - Build fail\")\n",
        "\n",
        "    population_fitness.append(acc)\n",
        "\n",
        "  parents_ind = selection(population_fitness)\n",
        "  parent1 = population[parents_ind[0]]\n",
        "  parent2 = population[parents_ind[1]]\n",
        "\n",
        "  children = crossover_xception(parent1, parent2)\n",
        "  child1 = mutation_xception(children[0])\n",
        "  child2 = mutation_xception(children[1])\n",
        "\n",
        "  population.append(child1)\n",
        "  population.append(child2)\n",
        "\n",
        "  print(\"Generation \", generation+1,\" Outcome: \")\n",
        "  if max(population_fitness) >= threshold:\n",
        "    print(\"Obtained desired accuracy: \", max(population_fitness))\n",
        "    break\n",
        "  else:\n",
        "    print(\"Maximum accuracy in generation {} : {}\".format(generation+1, max(population_fitness)))\n",
        "\n",
        "  first_min = min(population_fitness)\n",
        "  first_min_ind = population_fitness.index(first_min)\n",
        "  population.remove(population[first_min_ind])\n",
        "  second_min = min(population_fitness)\n",
        "  second_min_ind = population_fitness.index(second_min)\n",
        "  population.remove(population[second_min_ind])"
      ],
      "metadata": {
        "id": "6gCReLsFT2ay"
      },
      "execution_count": null,
      "outputs": []
    },
    {
      "cell_type": "code",
      "source": [
        "# VGG 16 MODEL\n",
        "from keras.applications.vgg16 import VGG16\n",
        "\n",
        "\n",
        "\n"
      ],
      "metadata": {
        "id": "ghfY7UPpT5rw"
      },
      "execution_count": null,
      "outputs": []
    },
    {
      "cell_type": "code",
      "source": [
        "#Hyperparameters\n",
        "# frozen: Frozen layers\n",
        "# f1: Number of units in dense layer\n",
        "# a1: Activation functions\n",
        "# d1: Drop out\n",
        "# op: Optimizer\n",
        "# ep: Number of epochs\n",
        "\n",
        "#Define VGG16 Model\n",
        "def VGG16_model(frozen, f1, a1, d1, op, ep):\n",
        "  model_fine_tune = VGG16(include_top=False, weights='imagenet', input_shape=input_shape)\n",
        "  for layer in model_fine_tune.layers[:frozen]:\n",
        "      layer.trainable = False\n",
        "  for layer in model_fine_tune.layers[frozen:]:\n",
        "      layer.trainable = True\n",
        "  model = GlobalAveragePooling2D()(model_fine_tune.output)\n",
        "  model=Dense(units=f1,activation=a1)(model)\n",
        "  model=Dropout(d1)(model)\n",
        "  model = Dense(num_class, activation='softmax')(model)\n",
        "  model = Model(model_fine_tune.input, model, name='vgg')\n",
        "  model.compile(loss='categorical_crossentropy',optimizer=op,metrics=['accuracy'])\n",
        "  es = EarlyStopping(monitor=\"val_accuracy\", patience = 4)\n",
        "  model.fit(train_generator,steps_per_epoch=len(train_generator),epochs=ep,validation_data=validation_generator,\n",
        "            validation_steps=len(validation_generator), callbacks=[es], verbose=0)\n",
        "  return model"
      ],
      "metadata": {
        "id": "G2qALjZuVe83"
      },
      "execution_count": null,
      "outputs": []
    },
    {
      "cell_type": "code",
      "source": [
        "from random import choice\n",
        "from random import uniform\n",
        "from numpy.random import randint"
      ],
      "metadata": {
        "id": "zkvRCAbFViP1"
      },
      "execution_count": null,
      "outputs": []
    },
    {
      "cell_type": "code",
      "source": [
        "def initialization_vgg16():\n",
        "  parameters = {}\n",
        "  #frozen = choice([8, 16, 24])\n",
        "  frozen = choice(range(8, 25, 1))\n",
        "  parameters[\"frozen\"] = frozen\n",
        "  f1 = choice([128, 256])\n",
        "  parameters[\"f1\"] = f1\n",
        "  a1 = choice([\"relu\", \"selu\", \"elu\"])\n",
        "  parameters[\"a1\"] = a1\n",
        "  d1 = round(uniform(0.1, 0.6), 1)\n",
        "  parameters[\"d1\"] = d1\n",
        "  op = choice([\"adam\", \"nadam\", \"adamax\", \"adagrad\"])\n",
        "  parameters[\"op\"] = op\n",
        "  ep = randint(10, 25)\n",
        "  parameters[\"ep\"] = ep\n",
        "  return parameters"
      ],
      "metadata": {
        "id": "LpXDvtgrVn2y"
      },
      "execution_count": null,
      "outputs": []
    },
    {
      "cell_type": "code",
      "source": [
        "def generate_population_vgg16(n):\n",
        "  population = []\n",
        "  for i in range(n):\n",
        "    chromosome = initialization_vgg16()\n",
        "    population.append(chromosome)\n",
        "  return population"
      ],
      "metadata": {
        "id": "WMxolfDCVrSP"
      },
      "execution_count": null,
      "outputs": []
    },
    {
      "cell_type": "code",
      "source": [
        "# Fitness evaluation metric: Classification Accuracy\n",
        "def fitness_evaluation(model):\n",
        "  metrics = model.evaluate(validation_generator)\n",
        "  return metrics[1]"
      ],
      "metadata": {
        "id": "GgwQeEEZVuaU"
      },
      "execution_count": null,
      "outputs": []
    },
    {
      "cell_type": "code",
      "source": [
        "# Roulette wheel selection method\n",
        "def selection(population_fitness):\n",
        "  total = sum(population_fitness)\n",
        "  percentage = [round((x/total) * 100) for x in population_fitness]\n",
        "  selection_wheel = []\n",
        "  for pop_index,num in enumerate(percentage):\n",
        "    selection_wheel.extend([pop_index]*num)\n",
        "  parent1_ind = choice(selection_wheel)\n",
        "  parent2_ind = choice(selection_wheel)\n",
        "  return [parent1_ind, parent2_ind]"
      ],
      "metadata": {
        "id": "ek5kClV5Vxs9"
      },
      "execution_count": null,
      "outputs": []
    },
    {
      "cell_type": "code",
      "source": [
        "def crossover_vgg16(parent1, parent2):\n",
        "  child1 = {}\n",
        "  child2 = {}\n",
        "\n",
        "  child1[\"frozen\"] = choice([parent1[\"frozen\"], parent2[\"frozen\"]])\n",
        "  child2[\"frozen\"] = choice([parent1[\"frozen\"], parent2[\"frozen\"]])\n",
        "\n",
        "  child1[\"f1\"] = choice([parent1[\"f1\"], parent2[\"f1\"]])\n",
        "  child2[\"f1\"] = choice([parent1[\"f1\"], parent2[\"f1\"]])\n",
        "\n",
        "  child1[\"a1\"] = parent2[\"a1\"]\n",
        "  child2[\"a1\"] = parent1[\"a1\"]\n",
        "\n",
        "  child1[\"d1\"] = parent1[\"d1\"]\n",
        "  child2[\"d1\"] = parent2[\"d1\"]\n",
        "\n",
        "  child1[\"op\"] = parent1[\"op\"]\n",
        "  child2[\"op\"] = parent2[\"op\"]\n",
        "\n",
        "  child1[\"ep\"] = parent1[\"ep\"]\n",
        "  child2[\"ep\"] = parent2[\"ep\"]\n",
        "  return [child1, child2]"
      ],
      "metadata": {
        "id": "qLK_QHwGV0YM"
      },
      "execution_count": null,
      "outputs": []
    },
    {
      "cell_type": "code",
      "source": [
        "def mutation_vgg16(chromosome):\n",
        "  flag = randint(0,40)\n",
        "  if flag <= 20:\n",
        "    chromosome[\"ep\"] += randint(0, 10)\n",
        "  return chromosome"
      ],
      "metadata": {
        "id": "myjzQ7NCV3bG"
      },
      "execution_count": null,
      "outputs": []
    },
    {
      "cell_type": "code",
      "source": [
        "generations = 5\n",
        "threshold = 90\n",
        "num_pop = 5\n",
        "\n",
        "population = generate_population_vgg16(num_pop)\n",
        "\n",
        "for generation in range(generations):\n",
        "\n",
        "  population_fitness = []\n",
        "  for chromosome in population:\n",
        "    frozen = chromosome[\"frozen\"]\n",
        "    f1 = chromosome[\"f1\"]\n",
        "    a1 = chromosome[\"a1\"]\n",
        "    d1 = chromosome[\"d1\"]\n",
        "    op = chromosome[\"op\"]\n",
        "    ep = chromosome[\"ep\"]\n",
        "\n",
        "    try:\n",
        "      model = VGG16_model(frozen, f1, a1, d1, op, ep)\n",
        "      acc = fitness_evaluation(model)\n",
        "      print(\"Parameters: \", chromosome)\n",
        "      print(\"Accuracy: \", round(acc,5))\n",
        "    except:\n",
        "      acc=0\n",
        "      print(\"Parameters: \", chromosome)\n",
        "      print(\"Invalid parameters - Build fail\")\n",
        "\n",
        "    population_fitness.append(acc)\n",
        "\n",
        "  parents_ind = selection(population_fitness)\n",
        "  parent1 = population[parents_ind[0]]\n",
        "  parent2 = population[parents_ind[1]]\n",
        "\n",
        "  children = crossover_vgg16(parent1, parent2)\n",
        "  child1 = mutation_vgg16(children[0])\n",
        "  child2 = mutation_vgg16(children[1])\n",
        "\n",
        "  population.append(child1)\n",
        "  population.append(child2)\n",
        "\n",
        "  print(\"Generation \", generation+1,\" Outcome: \")\n",
        "  if max(population_fitness) >= threshold:\n",
        "    print(\"Obtained desired accuracy: \", max(population_fitness))\n",
        "    break\n",
        "  else:\n",
        "    print(\"Maximum accuracy in generation {} : {}\".format(generation+1, max(population_fitness)))\n",
        "\n",
        "  first_min = min(population_fitness)\n",
        "  first_min_ind = population_fitness.index(first_min)\n",
        "  population.remove(population[first_min_ind])\n",
        "  second_min = min(population_fitness)\n",
        "  second_min_ind = population_fitness.index(second_min)\n",
        "  population.remove(population[second_min_ind])"
      ],
      "metadata": {
        "id": "VL6cshe7V6v7"
      },
      "execution_count": null,
      "outputs": []
    },
    {
      "cell_type": "code",
      "source": [
        "# VGG 19\n",
        "\n",
        "from keras.applications.vgg19 import VGG19"
      ],
      "metadata": {
        "id": "3LLqFsrIWCel"
      },
      "execution_count": null,
      "outputs": []
    },
    {
      "cell_type": "code",
      "source": [
        "#Hyperparameters\n",
        "# frozen: Frozen layers\n",
        "# f1: Number of units in dense layer\n",
        "# a1: Activation functions\n",
        "# d1: Drop out\n",
        "# op: Optimizer\n",
        "# ep: Number of epochs\n",
        "\n",
        "#Define VGG19 Model\n",
        "def VGG19_model(frozen, f1, a1, d1, op, ep):\n",
        "  model_fine_tune = VGG19(include_top=False, weights='imagenet', input_shape=input_shape)\n",
        "  for layer in model_fine_tune.layers[:frozen]:\n",
        "      layer.trainable = False\n",
        "  for layer in model_fine_tune.layers[frozen:]:\n",
        "      layer.trainable = True\n",
        "  model = GlobalAveragePooling2D()(model_fine_tune.output)\n",
        "  model=Dense(units=f1,activation=a1)(model)\n",
        "  model=Dropout(d1)(model)\n",
        "  model = Dense(num_class, activation='softmax')(model)\n",
        "  model = Model(model_fine_tune.input, model, name='vgg')\n",
        "  model.compile(loss='categorical_crossentropy',optimizer=op,metrics=['accuracy'])\n",
        "  es = EarlyStopping(monitor=\"val_accuracy\", patience = 4)\n",
        "  model.fit(train_generator,steps_per_epoch=len(train_generator),epochs=ep,validation_data=validation_generator,\n",
        "            validation_steps=len(validation_generator), callbacks=[es], verbose=0)\n",
        "  return model"
      ],
      "metadata": {
        "id": "Xn0W2bU3WLxX"
      },
      "execution_count": null,
      "outputs": []
    },
    {
      "cell_type": "code",
      "source": [
        "from random import choice\n",
        "from random import uniform\n",
        "from numpy.random import randint"
      ],
      "metadata": {
        "id": "e4cyQI3QWPXn"
      },
      "execution_count": null,
      "outputs": []
    },
    {
      "cell_type": "code",
      "source": [
        "def initialization_vgg19():\n",
        "  parameters = {}\n",
        "  frozen = choice(range(10, 25, 1))\n",
        "  parameters[\"frozen\"] = frozen\n",
        "  f1 = choice([128, 256])\n",
        "  parameters[\"f1\"] = f1\n",
        "  a1 = choice([\"relu\", \"selu\", \"elu\"])\n",
        "  parameters[\"a1\"] = a1\n",
        "  d1 = round(uniform(0.1, 0.6), 1)\n",
        "  parameters[\"d1\"] = d1\n",
        "  op = choice([\"adam\", \"nadam\", \"adamax\", \"adagrad\"])\n",
        "  parameters[\"op\"] = op\n",
        "  ep = randint(10, 25)\n",
        "  parameters[\"ep\"] = ep\n",
        "  return parameters"
      ],
      "metadata": {
        "id": "5xcvE91eWSZB"
      },
      "execution_count": null,
      "outputs": []
    },
    {
      "cell_type": "code",
      "source": [
        "def generate_population_vgg19(n):\n",
        "  population = []\n",
        "  for i in range(n):\n",
        "    chromosome = initialization_vgg19()\n",
        "    population.append(chromosome)\n",
        "  return population"
      ],
      "metadata": {
        "id": "INhAKCkYWV79"
      },
      "execution_count": null,
      "outputs": []
    },
    {
      "cell_type": "code",
      "source": [
        "# Roulette wheel selection method\n",
        "def selection(population_fitness):\n",
        "  total = sum(population_fitness)\n",
        "  percentage = [round((x/total) * 100) for x in population_fitness]\n",
        "  selection_wheel = []\n",
        "  for pop_index,num in enumerate(percentage):\n",
        "    selection_wheel.extend([pop_index]*num)\n",
        "  parent1_ind = choice(selection_wheel)\n",
        "  parent2_ind = choice(selection_wheel)\n",
        "  return [parent1_ind, parent2_ind]"
      ],
      "metadata": {
        "id": "hLwtS1DsWYww"
      },
      "execution_count": null,
      "outputs": []
    },
    {
      "cell_type": "code",
      "source": [
        "def crossover_vgg19(parent1, parent2):\n",
        "  child1 = {}\n",
        "  child2 = {}\n",
        "\n",
        "  child1[\"frozen\"] = choice([parent1[\"frozen\"], parent2[\"frozen\"]])\n",
        "  child2[\"frozen\"] = choice([parent1[\"frozen\"], parent2[\"frozen\"]])\n",
        "\n",
        "  child1[\"f1\"] = choice([parent1[\"f1\"], parent2[\"f1\"]])\n",
        "  child2[\"f1\"] = choice([parent1[\"f1\"], parent2[\"f1\"]])\n",
        "\n",
        "  child1[\"a1\"] = parent2[\"a1\"]\n",
        "  child2[\"a1\"] = parent1[\"a1\"]\n",
        "\n",
        "  child1[\"d1\"] = parent1[\"d1\"]\n",
        "  child2[\"d1\"] = parent2[\"d1\"]\n",
        "\n",
        "  child1[\"op\"] = parent1[\"op\"]\n",
        "  child2[\"op\"] = parent2[\"op\"]\n",
        "\n",
        "  child1[\"ep\"] = parent1[\"ep\"]\n",
        "  child2[\"ep\"] = parent2[\"ep\"]\n",
        "  return [child1, child2]"
      ],
      "metadata": {
        "id": "CD3qw0iFWb3m"
      },
      "execution_count": null,
      "outputs": []
    },
    {
      "cell_type": "code",
      "source": [
        "def mutation_vgg19(chromosome):\n",
        "  flag = randint(0,40)\n",
        "  if flag <= 20:\n",
        "    chromosome[\"ep\"] += randint(0, 10)\n",
        "  return chromosome"
      ],
      "metadata": {
        "id": "JRbZzk6BWfSW"
      },
      "execution_count": null,
      "outputs": []
    },
    {
      "cell_type": "code",
      "source": [
        "generations = 5\n",
        "threshold = 90\n",
        "num_pop = 3\n",
        "\n",
        "population = generate_population_vgg19(num_pop)\n",
        "\n",
        "for generation in range(generations):\n",
        "\n",
        "  population_fitness = []\n",
        "  for chromosome in population:\n",
        "    frozen = chromosome[\"frozen\"]\n",
        "    f1 = chromosome[\"f1\"]\n",
        "    a1 = chromosome[\"a1\"]\n",
        "    d1 = chromosome[\"d1\"]\n",
        "    op = chromosome[\"op\"]\n",
        "    ep = chromosome[\"ep\"]\n",
        "\n",
        "    try:\n",
        "      model = VGG19_model(frozen, f1, a1, d1, op, ep)\n",
        "      acc = fitness_evaluation(model)\n",
        "      print(\"Parameters: \", chromosome)\n",
        "      print(\"Accuracy: \", round(acc,5))\n",
        "    except:\n",
        "      acc=0\n",
        "      print(\"Parameters: \", chromosome)\n",
        "      print(\"Invalid parameters - Build fail\")\n",
        "\n",
        "    population_fitness.append(acc)\n",
        "\n",
        "  parents_ind = selection(population_fitness)\n",
        "  parent1 = population[parents_ind[0]]\n",
        "  parent2 = population[parents_ind[1]]\n",
        "\n",
        "  children = crossover_vgg19(parent1, parent2)\n",
        "  child1 = mutation_vgg19(children[0])\n",
        "  child2 = mutation_vgg19(children[1])\n",
        "\n",
        "  population.append(child1)\n",
        "  population.append(child2)\n",
        "\n",
        "  print(\"Generation \", generation+1,\" Outcome: \")\n",
        "  if max(population_fitness) >= threshold:\n",
        "    print(\"Obtained desired accuracy: \", max(population_fitness))\n",
        "    break\n",
        "  else:\n",
        "    print(\"Maximum accuracy in generation {} : {}\".format(generation+1, max(population_fitness)))\n",
        "\n",
        "  first_min = min(population_fitness)\n",
        "  first_min_ind = population_fitness.index(first_min)\n",
        "  population.remove(population[first_min_ind])\n",
        "  second_min = min(population_fitness)\n",
        "  second_min_ind = population_fitness.index(second_min)\n",
        "  population.remove(population[second_min_ind])"
      ],
      "metadata": {
        "id": "Sg1yYGYSWinu"
      },
      "execution_count": null,
      "outputs": []
    },
    {
      "cell_type": "code",
      "source": [
        "# INCEPTION\n",
        "\n",
        "from keras.applications.inception_v3 import InceptionV3"
      ],
      "metadata": {
        "id": "IuhjSHKWWxu0"
      },
      "execution_count": null,
      "outputs": []
    },
    {
      "cell_type": "code",
      "source": [
        "#Hyperparameters\n",
        "# frozen: Frozen layers\n",
        "# f1: Number of units in dense layer\n",
        "# a1: Activation functions\n",
        "# d1: Drop out\n",
        "# op: Optimizer\n",
        "# ep: Number of epochs\n",
        "\n",
        "#Define Inception Model\n",
        "def Inception_model(frozen, f1, a1, d1, op, ep):\n",
        "  model_fine_tune = InceptionV3(include_top=False, weights='imagenet', input_shape=input_shape)\n",
        "  for layer in model_fine_tune.layers[:frozen]:\n",
        "      layer.trainable = False\n",
        "  for layer in model_fine_tune.layers[frozen:]:\n",
        "      layer.trainable = True\n",
        "  model = GlobalAveragePooling2D()(model_fine_tune.output)\n",
        "  model=Dense(units=f1,activation=a1)(model)\n",
        "  model=Dropout(d1)(model)\n",
        "  model = Dense(num_class, activation='softmax')(model)\n",
        "  model = Model(model_fine_tune.input, model, name='resnet')\n",
        "  model.compile(loss='categorical_crossentropy',optimizer=op,metrics=['accuracy'])\n",
        "  es = EarlyStopping(monitor=\"val_accuracy\", patience = 4)\n",
        "  model.fit(train_generator,steps_per_epoch=len(train_generator),epochs=ep,validation_data=validation_generator,\n",
        "            validation_steps=len(validation_generator), callbacks=[es], verbose=0)\n",
        "  return model"
      ],
      "metadata": {
        "id": "Q2S-GOQCW7uo"
      },
      "execution_count": null,
      "outputs": []
    },
    {
      "cell_type": "code",
      "source": [
        "from random import choice\n",
        "from random import uniform\n",
        "from numpy.random import randint"
      ],
      "metadata": {
        "id": "PTAAcrzGW_A5"
      },
      "execution_count": null,
      "outputs": []
    },
    {
      "cell_type": "code",
      "source": [
        "def initialization_inception():\n",
        "  parameters = {}\n",
        "  frozen = choice(range(30, 50, 1))\n",
        "  parameters[\"frozen\"] = frozen\n",
        "  f1 = choice([128, 256])\n",
        "  parameters[\"f1\"] = f1\n",
        "  a1 = choice([\"relu\", \"selu\", \"elu\"])\n",
        "  parameters[\"a1\"] = a1\n",
        "  d1 = round(uniform(0.1, 0.6), 1)\n",
        "  parameters[\"d1\"] = d1\n",
        "  op = choice([\"adam\", \"nadam\", \"adamax\", \"adagrad\"])\n",
        "  parameters[\"op\"] = op\n",
        "  ep = randint(10, 25)\n",
        "  parameters[\"ep\"] = ep\n",
        "  return parameters"
      ],
      "metadata": {
        "id": "oM6lXwS0XCgQ"
      },
      "execution_count": null,
      "outputs": []
    },
    {
      "cell_type": "code",
      "source": [
        "def generate_population_inception(n):\n",
        "  population = []\n",
        "  for i in range(n):\n",
        "    chromosome = initialization_inception()\n",
        "    population.append(chromosome)\n",
        "  return population"
      ],
      "metadata": {
        "id": "0ez0__03XF1D"
      },
      "execution_count": null,
      "outputs": []
    },
    {
      "cell_type": "code",
      "source": [
        "# Fitness evaluation metric: Classification Accuracy\n",
        "def fitness_evaluation(model):\n",
        "  metrics = model.evaluate(validation_generator)\n",
        "  return metrics[1]"
      ],
      "metadata": {
        "id": "UZH9REXjXKRZ"
      },
      "execution_count": null,
      "outputs": []
    },
    {
      "cell_type": "code",
      "source": [
        "# Roulette wheel selection method\n",
        "def selection(population_fitness):\n",
        "  total = sum(population_fitness)\n",
        "  percentage = [round((x/total) * 100) for x in population_fitness]\n",
        "  selection_wheel = []\n",
        "  for pop_index,num in enumerate(percentage):\n",
        "    selection_wheel.extend([pop_index]*num)\n",
        "  parent1_ind = choice(selection_wheel)\n",
        "  parent2_ind = choice(selection_wheel)\n",
        "  return [parent1_ind, parent2_ind]"
      ],
      "metadata": {
        "id": "EKnS8u8rXNbF"
      },
      "execution_count": null,
      "outputs": []
    },
    {
      "cell_type": "code",
      "source": [
        "def crossover_inception(parent1, parent2):\n",
        "  child1 = {}\n",
        "  child2 = {}\n",
        "\n",
        "  child1[\"frozen\"] = choice([parent1[\"frozen\"], parent2[\"frozen\"]])\n",
        "  child2[\"frozen\"] = choice([parent1[\"frozen\"], parent2[\"frozen\"]])\n",
        "\n",
        "  child1[\"f1\"] = choice([parent1[\"f1\"], parent2[\"f1\"]])\n",
        "  child2[\"f1\"] = choice([parent1[\"f1\"], parent2[\"f1\"]])\n",
        "\n",
        "  child1[\"a1\"] = parent2[\"a1\"]\n",
        "  child2[\"a1\"] = parent1[\"a1\"]\n",
        "\n",
        "  child1[\"d1\"] = parent1[\"d1\"]\n",
        "  child2[\"d1\"] = parent2[\"d1\"]\n",
        "\n",
        "  child1[\"op\"] = parent1[\"op\"]\n",
        "  child2[\"op\"] = parent2[\"op\"]\n",
        "\n",
        "  child1[\"ep\"] = parent1[\"ep\"]\n",
        "  child2[\"ep\"] = parent2[\"ep\"]\n",
        "  return [child1, child2]"
      ],
      "metadata": {
        "id": "9KVPyipyXQb-"
      },
      "execution_count": null,
      "outputs": []
    },
    {
      "cell_type": "code",
      "source": [
        "def mutation_inception(chromosome):\n",
        "  flag = randint(0,40)\n",
        "  if flag <= 20:\n",
        "    chromosome[\"ep\"] += randint(0, 10)\n",
        "  return chromosome"
      ],
      "metadata": {
        "id": "0qQ_AmoDXTsy"
      },
      "execution_count": null,
      "outputs": []
    },
    {
      "cell_type": "code",
      "source": [
        "generations = 5\n",
        "threshold = 90\n",
        "num_pop = 3\n",
        "\n",
        "population = generate_population_inception(num_pop)\n",
        "\n",
        "for generation in range(generations):\n",
        "\n",
        "  population_fitness = []\n",
        "  for chromosome in population:\n",
        "    frozen = chromosome[\"frozen\"]\n",
        "    f1 = chromosome[\"f1\"]\n",
        "    a1 = chromosome[\"a1\"]\n",
        "    d1 = chromosome[\"d1\"]\n",
        "    op = chromosome[\"op\"]\n",
        "    ep = chromosome[\"ep\"]\n",
        "\n",
        "    try:\n",
        "      model = Inception_model(frozen, f1, a1, d1, op, ep)\n",
        "      acc = fitness_evaluation(model)\n",
        "      print(\"Parameters: \", chromosome)\n",
        "      print(\"Accuracy: \", round(acc,5))\n",
        "    except:\n",
        "      acc=0\n",
        "      print(\"Parameters: \", chromosome)\n",
        "      print(\"Invalid parameters - Build fail\")\n",
        "\n",
        "    population_fitness.append(acc)\n",
        "\n",
        "  parents_ind = selection(population_fitness)\n",
        "  parent1 = population[parents_ind[0]]\n",
        "  parent2 = population[parents_ind[1]]\n",
        "\n",
        "  children = crossover_inception(parent1, parent2)\n",
        "  child1 = mutation_inception(children[0])\n",
        "  child2 = mutation_inception(children[1])\n",
        "\n",
        "  population.append(child1)\n",
        "  population.append(child2)\n",
        "\n",
        "  print(\"Generation \", generation+1,\" Outcome: \")\n",
        "  if max(population_fitness) >= threshold:\n",
        "    print(\"Obtained desired accuracy: \", max(population_fitness))\n",
        "    break\n",
        "  else:\n",
        "    print(\"Maximum accuracy in generation {} : {}\".format(generation+1, max(population_fitness)))\n",
        "\n",
        "  first_min = min(population_fitness)\n",
        "  first_min_ind = population_fitness.index(first_min)\n",
        "  population.remove(population[first_min_ind])\n",
        "  second_min = min(population_fitness)\n",
        "  second_min_ind = population_fitness.index(second_min)\n",
        "  population.remove(population[second_min_ind])"
      ],
      "metadata": {
        "id": "zRaqpU0JXZRq"
      },
      "execution_count": null,
      "outputs": []
    },
    {
      "cell_type": "code",
      "source": [
        "from keras.applications.inception_resnet_v2 import InceptionResNetV2"
      ],
      "metadata": {
        "id": "6dXqmKp1XcjK"
      },
      "execution_count": null,
      "outputs": []
    },
    {
      "cell_type": "code",
      "source": [
        "#Hyperparameters\n",
        "# frozen: Frozen layers\n",
        "# f1: Number of units in dense layer\n",
        "# a1: Activation functions\n",
        "# d1: Drop out\n",
        "# op: Optimizer\n",
        "# ep: Number of epochs\n",
        "\n",
        "#Define InceptionResnet Model\n",
        "def InceptionRes_model(frozen, f1, a1, d1, op, ep):\n",
        "  model_fine_tune = InceptionResNetV2(include_top=False, weights='imagenet', input_shape=input_shape)\n",
        "  for layer in model_fine_tune.layers[:frozen]:\n",
        "      layer.trainable = False\n",
        "  for layer in model_fine_tune.layers[frozen:]:\n",
        "      layer.trainable = True\n",
        "  model = GlobalAveragePooling2D()(model_fine_tune.output)\n",
        "  model=Dense(units=f1,activation=a1)(model)\n",
        "  model=Dropout(d1)(model)\n",
        "  model = Dense(num_class, activation='softmax')(model)\n",
        "  model = Model(model_fine_tune.input, model, name='resnet')\n",
        "  model.compile(loss='categorical_crossentropy',optimizer=op,metrics=['accuracy'])\n",
        "  es = EarlyStopping(monitor=\"val_accuracy\", patience = 4)\n",
        "  model.fit(train_generator,steps_per_epoch=len(train_generator),epochs=ep,validation_data=validation_generator,\n",
        "            validation_steps=len(validation_generator), callbacks=[es], verbose=0)\n",
        "  return model"
      ],
      "metadata": {
        "id": "fZbJNlx9XuQz"
      },
      "execution_count": null,
      "outputs": []
    },
    {
      "cell_type": "code",
      "source": [
        "from random import choice\n",
        "from random import uniform\n",
        "from numpy.random import randint"
      ],
      "metadata": {
        "id": "qRODJznQXzUg"
      },
      "execution_count": null,
      "outputs": []
    },
    {
      "cell_type": "code",
      "source": [
        "def initialization_IncepRes():\n",
        "  parameters = {}\n",
        "  frozen = choice(range(400, 600, 1))\n",
        "  parameters[\"frozen\"] = frozen\n",
        "  f1 = choice([128, 256])\n",
        "  parameters[\"f1\"] = f1\n",
        "  a1 = choice([\"relu\", \"selu\", \"elu\"])\n",
        "  parameters[\"a1\"] = a1\n",
        "  d1 = round(uniform(0.1, 0.6), 1)\n",
        "  parameters[\"d1\"] = d1\n",
        "  op = choice([\"adam\", \"nadam\", \"adamax\", \"adagrad\"])\n",
        "  parameters[\"op\"] = op\n",
        "  ep = randint(10, 25)\n",
        "  parameters[\"ep\"] = ep\n",
        "  return parameters"
      ],
      "metadata": {
        "id": "MUNFvN5WYUmG"
      },
      "execution_count": null,
      "outputs": []
    },
    {
      "cell_type": "code",
      "source": [
        "def generate_population_IncepRes(n):\n",
        "  population = []\n",
        "  for i in range(n):\n",
        "    chromosome = initialization_IncepRes()\n",
        "    population.append(chromosome)\n",
        "  return population"
      ],
      "metadata": {
        "id": "kcKjsV6jY5bl"
      },
      "execution_count": null,
      "outputs": []
    },
    {
      "cell_type": "code",
      "source": [
        "# Fitness evaluation metric: Classification Accuracy\n",
        "def fitness_evaluation(model):\n",
        "  metrics = model.evaluate(validation_generator)\n",
        "  return metrics[1]"
      ],
      "metadata": {
        "id": "PTF1M__cY8JM"
      },
      "execution_count": null,
      "outputs": []
    },
    {
      "cell_type": "code",
      "source": [
        "# Roulette wheel selection method\n",
        "def selection(population_fitness):\n",
        "  total = sum(population_fitness)\n",
        "  percentage = [round((x/total) * 100) for x in population_fitness]\n",
        "  selection_wheel = []\n",
        "  for pop_index,num in enumerate(percentage):\n",
        "    selection_wheel.extend([pop_index]*num)\n",
        "  parent1_ind = choice(selection_wheel)\n",
        "  parent2_ind = choice(selection_wheel)\n",
        "  return [parent1_ind, parent2_ind]"
      ],
      "metadata": {
        "id": "PbWlE-I5Y_Zh"
      },
      "execution_count": null,
      "outputs": []
    },
    {
      "cell_type": "code",
      "source": [
        "def crossover_IncepRes(parent1, parent2):\n",
        "  child1 = {}\n",
        "  child2 = {}\n",
        "\n",
        "  child1[\"frozen\"] = choice([parent1[\"frozen\"], parent2[\"frozen\"]])\n",
        "  child2[\"frozen\"] = choice([parent1[\"frozen\"], parent2[\"frozen\"]])\n",
        "\n",
        "  child1[\"f1\"] = choice([parent1[\"f1\"], parent2[\"f1\"]])\n",
        "  child2[\"f1\"] = choice([parent1[\"f1\"], parent2[\"f1\"]])\n",
        "\n",
        "  child1[\"a1\"] = parent2[\"a1\"]\n",
        "  child2[\"a1\"] = parent1[\"a1\"]\n",
        "\n",
        "  child1[\"d1\"] = parent1[\"d1\"]\n",
        "  child2[\"d1\"] = parent2[\"d1\"]\n",
        "\n",
        "  child1[\"op\"] = parent1[\"op\"]\n",
        "  child2[\"op\"] = parent2[\"op\"]\n",
        "\n",
        "  child1[\"ep\"] = parent1[\"ep\"]\n",
        "  child2[\"ep\"] = parent2[\"ep\"]\n",
        "  return [child1, child2]"
      ],
      "metadata": {
        "id": "9jSarYsyZCk3"
      },
      "execution_count": null,
      "outputs": []
    },
    {
      "cell_type": "code",
      "source": [
        "def mutation_IncepRes(chromosome):\n",
        "  flag = randint(0,40)\n",
        "  if flag <= 20:\n",
        "    chromosome[\"ep\"] += randint(0, 10)\n",
        "  return chromosome"
      ],
      "metadata": {
        "id": "KIgcoYjbZTFI"
      },
      "execution_count": null,
      "outputs": []
    },
    {
      "cell_type": "code",
      "source": [
        "generations = 5\n",
        "threshold = 90\n",
        "num_pop = 3\n",
        "\n",
        "population = generate_population_IncepRes(num_pop)\n",
        "\n",
        "for generation in range(generations):\n",
        "\n",
        "  population_fitness = []\n",
        "  for chromosome in population:\n",
        "    frozen = chromosome[\"frozen\"]\n",
        "    f1 = chromosome[\"f1\"]\n",
        "    a1 = chromosome[\"a1\"]\n",
        "    d1 = chromosome[\"d1\"]\n",
        "    op = chromosome[\"op\"]\n",
        "    ep = chromosome[\"ep\"]\n",
        "\n",
        "    try:\n",
        "      model = InceptionRes_model(frozen, f1, a1, d1, op, ep)\n",
        "      acc = fitness_evaluation(model)\n",
        "      print(\"Parameters: \", chromosome)\n",
        "      print(\"Accuracy: \", round(acc,5))\n",
        "    except:\n",
        "      acc=0\n",
        "      print(\"Parameters: \", chromosome)\n",
        "      print(\"Invalid parameters - Build fail\")\n",
        "\n",
        "    population_fitness.append(acc)\n",
        "\n",
        "  parents_ind = selection(population_fitness)\n",
        "  parent1 = population[parents_ind[0]]\n",
        "  parent2 = population[parents_ind[1]]\n",
        "\n",
        "  children = crossover_IncepRes(parent1, parent2)\n",
        "  child1 = mutation_IncepRes(children[0])\n",
        "  child2 = mutation_IncepRes(children[1])\n",
        "\n",
        "  population.append(child1)\n",
        "  population.append(child2)\n",
        "\n",
        "  print(\"Generation \", generation+1,\" Outcome: \")\n",
        "  if max(population_fitness) >= threshold:\n",
        "    print(\"Obtained desired accuracy: \", max(population_fitness))\n",
        "    break\n",
        "  else:\n",
        "    print(\"Maximum accuracy in generation {} : {}\".format(generation+1, max(population_fitness)))\n",
        "\n",
        "  first_min = min(population_fitness)\n",
        "  first_min_ind = population_fitness.index(first_min)\n",
        "  population.remove(population[first_min_ind])\n",
        "  second_min = min(population_fitness)\n",
        "  second_min_ind = population_fitness.index(second_min)\n",
        "  population.remove(population[second_min_ind])"
      ],
      "metadata": {
        "id": "4RiuxlJ6ZWkd"
      },
      "execution_count": null,
      "outputs": []
    },
    {
      "cell_type": "code",
      "source": [
        "from keras.applications.efficientnet import EfficientNetB7"
      ],
      "metadata": {
        "id": "dPE2v0XeZb5B"
      },
      "execution_count": null,
      "outputs": []
    },
    {
      "cell_type": "code",
      "source": [
        "#Hyperparameters\n",
        "# frozen: Frozen layers\n",
        "# f1: Number of units in dense layer\n",
        "# a1: Activation functions\n",
        "# d1: Drop out\n",
        "# op: Optimizer\n",
        "# ep: Number of epochs\n",
        "\n",
        "#Define EfficientNetB7 Model\n",
        "def EfficientNetB7_model(frozen, f1, a1, d1, op, ep):\n",
        "  model_fine_tune = EfficientNetB7(include_top=False, weights='imagenet', input_shape=input_shape)\n",
        "  for layer in model_fine_tune.layers[:frozen]:\n",
        "      layer.trainable = False\n",
        "  for layer in model_fine_tune.layers[frozen:]:\n",
        "      layer.trainable = True\n",
        "  model = GlobalAveragePooling2D()(model_fine_tune.output)\n",
        "  model=Dense(units=f1,activation=a1)(model)\n",
        "  model=Dropout(d1)(model)\n",
        "  model = Dense(num_class, activation='softmax')(model)\n",
        "  model = Model(model_fine_tune.input, model, name='efficientnetb7')\n",
        "  model.compile(loss='categorical_crossentropy',optimizer=op,metrics=['accuracy'])\n",
        "  es = EarlyStopping(monitor=\"val_accuracy\", patience = 4)\n",
        "  model.fit(train_generator,steps_per_epoch=len(train_generator),epochs=ep,validation_data=validation_generator,\n",
        "            validation_steps=len(validation_generator), callbacks=[es], verbose=0)\n",
        "  return model"
      ],
      "metadata": {
        "id": "xfP4ACJZZftg"
      },
      "execution_count": null,
      "outputs": []
    },
    {
      "cell_type": "code",
      "source": [
        "from random import choice\n",
        "from random import uniform\n",
        "from numpy.random import randint"
      ],
      "metadata": {
        "id": "VnMxwN7pZkXz"
      },
      "execution_count": null,
      "outputs": []
    },
    {
      "cell_type": "code",
      "source": [
        "def initialization_EfficientNetB7():\n",
        "  parameters = {}\n",
        "  frozen = choice(range(270, 350, 1))\n",
        "  parameters[\"frozen\"] = frozen\n",
        "  f1 = choice([128, 256])\n",
        "  parameters[\"f1\"] = f1\n",
        "  a1 = choice([\"relu\", \"selu\", \"elu\"])\n",
        "  parameters[\"a1\"] = a1\n",
        "  d1 = round(uniform(0.1, 0.6), 1)\n",
        "  parameters[\"d1\"] = d1\n",
        "  op = choice([\"adam\", \"nadam\", \"adamax\", \"adagrad\"])\n",
        "  parameters[\"op\"] = op\n",
        "  ep = randint(10, 25)\n",
        "  parameters[\"ep\"] = ep\n",
        "  return parameters"
      ],
      "metadata": {
        "id": "iuUdJErWZnVh"
      },
      "execution_count": null,
      "outputs": []
    },
    {
      "cell_type": "code",
      "source": [
        "def generate_population_EfficientNetB7(n):\n",
        "  population = []\n",
        "  for i in range(n):\n",
        "    chromosome = initialization_EfficientNetB7()\n",
        "    population.append(chromosome)\n",
        "  return population"
      ],
      "metadata": {
        "id": "HGfTy-AEZ2aS"
      },
      "execution_count": null,
      "outputs": []
    },
    {
      "cell_type": "code",
      "source": [
        "# Fitness evaluation metric: Classification Accuracy\n",
        "def fitness_evaluation(model):\n",
        "  metrics = model.evaluate(validation_generator)\n",
        "  return metrics[1]"
      ],
      "metadata": {
        "id": "xdXIdpFqZ5Uv"
      },
      "execution_count": null,
      "outputs": []
    },
    {
      "cell_type": "code",
      "source": [
        "# Roulette wheel selection method\n",
        "def selection(population_fitness):\n",
        "  total = sum(population_fitness)\n",
        "  percentage = [round((x/total) * 100) for x in population_fitness]\n",
        "  selection_wheel = []\n",
        "  for pop_index,num in enumerate(percentage):\n",
        "    selection_wheel.extend([pop_index]*num)\n",
        "  parent1_ind = choice(selection_wheel)\n",
        "  parent2_ind = choice(selection_wheel)\n",
        "  return [parent1_ind, parent2_ind]"
      ],
      "metadata": {
        "id": "1kZRiNdfZ6Sp"
      },
      "execution_count": null,
      "outputs": []
    },
    {
      "cell_type": "code",
      "source": [
        "def crossover_EfficientNetB7(parent1, parent2):\n",
        "  child1 = {}\n",
        "  child2 = {}\n",
        "\n",
        "  child1[\"frozen\"] = choice([parent1[\"frozen\"], parent2[\"frozen\"]])\n",
        "  child2[\"frozen\"] = choice([parent1[\"frozen\"], parent2[\"frozen\"]])\n",
        "\n",
        "  child1[\"f1\"] = choice([parent1[\"f1\"], parent2[\"f1\"]])\n",
        "  child2[\"f1\"] = choice([parent1[\"f1\"], parent2[\"f1\"]])\n",
        "\n",
        "  child1[\"a1\"] = parent2[\"a1\"]\n",
        "  child2[\"a1\"] = parent1[\"a1\"]\n",
        "\n",
        "  child1[\"d1\"] = parent1[\"d1\"]\n",
        "  child2[\"d1\"] = parent2[\"d1\"]\n",
        "\n",
        "  child1[\"op\"] = parent1[\"op\"]\n",
        "  child2[\"op\"] = parent2[\"op\"]\n",
        "\n",
        "  child1[\"ep\"] = parent1[\"ep\"]\n",
        "  child2[\"ep\"] = parent2[\"ep\"]\n",
        "  return [child1, child2]"
      ],
      "metadata": {
        "id": "ChPwEC9gZ9Xq"
      },
      "execution_count": null,
      "outputs": []
    },
    {
      "cell_type": "code",
      "source": [
        "def mutation_EfficientNetB7(chromosome):\n",
        "  flag = randint(0,40)\n",
        "  if flag <= 20:\n",
        "    chromosome[\"ep\"] += randint(0, 10)\n",
        "  return chromosome"
      ],
      "metadata": {
        "id": "9LFI1sesaA_5"
      },
      "execution_count": null,
      "outputs": []
    },
    {
      "cell_type": "code",
      "source": [
        "generations = 5\n",
        "threshold = 90\n",
        "num_pop = 3\n",
        "\n",
        "population = generate_population_EfficientNetB7(num_pop)\n",
        "\n",
        "for generation in range(generations):\n",
        "\n",
        "  population_fitness = []\n",
        "  for chromosome in population:\n",
        "    frozen = chromosome[\"frozen\"]\n",
        "    f1 = chromosome[\"f1\"]\n",
        "    a1 = chromosome[\"a1\"]\n",
        "    d1 = chromosome[\"d1\"]\n",
        "    op = chromosome[\"op\"]\n",
        "    ep = chromosome[\"ep\"]\n",
        "\n",
        "    try:\n",
        "      model = EfficientNetB7_model(frozen, f1, a1, d1, op, ep)\n",
        "      acc = fitness_evaluation(model)\n",
        "      print(\"Parameters: \", chromosome)\n",
        "      print(\"Accuracy: \", round(acc,5))\n",
        "    except:\n",
        "      acc=0\n",
        "      print(\"Parameters: \", chromosome)\n",
        "      print(\"Invalid parameters - Build fail\")\n",
        "\n",
        "    population_fitness.append(acc)\n",
        "\n",
        "  parents_ind = selection(population_fitness)\n",
        "  parent1 = population[parents_ind[0]]\n",
        "  parent2 = population[parents_ind[1]]\n",
        "\n",
        "  children = crossover_EfficientNetB7(parent1, parent2)\n",
        "  child1 = mutation_EfficientNetB7(children[0])\n",
        "  child2 = mutation_EfficientNetB7(children[1])\n",
        "\n",
        "  population.append(child1)\n",
        "  population.append(child2)\n",
        "\n",
        "  print(\"Generation \", generation+1,\" Outcome: \")\n",
        "  if max(population_fitness) >= threshold:\n",
        "    print(\"Obtained desired accuracy: \", max(population_fitness))\n",
        "    break\n",
        "  else:\n",
        "    print(\"Maximum accuracy in generation {} : {}\".format(generation+1, max(population_fitness)))\n",
        "\n",
        "  first_min = min(population_fitness)\n",
        "  first_min_ind = population_fitness.index(first_min)\n",
        "  population.remove(population[first_min_ind])\n",
        "  second_min = min(population_fitness)\n",
        "  second_min_ind = population_fitness.index(second_min)\n",
        "  population.remove(population[second_min_ind])"
      ],
      "metadata": {
        "id": "22P5D9xcaEds"
      },
      "execution_count": null,
      "outputs": []
    },
    {
      "cell_type": "code",
      "source": [
        "from keras.applications.efficientnet_v2 import EfficientNetV2L"
      ],
      "metadata": {
        "id": "xRMML1n2aLnf"
      },
      "execution_count": null,
      "outputs": []
    },
    {
      "cell_type": "code",
      "source": [
        "#Hyperparameters\n",
        "# frozen: Frozen layers\n",
        "# f1: Number of units in dense layer\n",
        "# a1: Activation functions\n",
        "# d1: Drop out\n",
        "# op: Optimizer\n",
        "# ep: Number of epochs\n",
        "\n",
        "#Define EfficientNetV2L Model\n",
        "def EfficientNetV2L_model(frozen, f1, a1, d1, op, ep):\n",
        "  model_fine_tune = EfficientNetV2L(include_top=False, weights='imagenet', input_shape=input_shape)\n",
        "  for layer in model_fine_tune.layers[:frozen]:\n",
        "      layer.trainable = False\n",
        "  for layer in model_fine_tune.layers[frozen:]:\n",
        "      layer.trainable = True\n",
        "  model = GlobalAveragePooling2D()(model_fine_tune.output)\n",
        "  model=Dense(units=f1,activation=a1)(model)\n",
        "  model=Dropout(d1)(model)\n",
        "  model = Dense(num_class, activation='softmax')(model)\n",
        "  model = Model(model_fine_tune.input, model, name='efficientnetv2-l')\n",
        "  model.compile(loss='categorical_crossentropy',optimizer=op,metrics=['accuracy'])\n",
        "  es = EarlyStopping(monitor=\"val_accuracy\", patience = 4)\n",
        "  model.fit(train_generator,steps_per_epoch=len(train_generator),epochs=ep,validation_data=validation_generator,\n",
        "            validation_steps=len(validation_generator), callbacks=[es], verbose=0)\n",
        "  return model"
      ],
      "metadata": {
        "id": "OJUAJfpaaNBl"
      },
      "execution_count": null,
      "outputs": []
    },
    {
      "cell_type": "code",
      "source": [
        "from random import choice\n",
        "from random import uniform\n",
        "from numpy.random import randint"
      ],
      "metadata": {
        "id": "IElWvZPLaSJI"
      },
      "execution_count": null,
      "outputs": []
    },
    {
      "cell_type": "code",
      "source": [
        "def initialization_EfficientNetV2L():\n",
        "  parameters = {}\n",
        "  frozen = choice(range(380, 430, 1))\n",
        "  parameters[\"frozen\"] = frozen\n",
        "  f1 = choice([128, 256])\n",
        "  parameters[\"f1\"] = f1\n",
        "  a1 = choice([\"relu\", \"selu\", \"elu\"])\n",
        "  parameters[\"a1\"] = a1\n",
        "  d1 = round(uniform(0.1, 0.6), 1)\n",
        "  parameters[\"d1\"] = d1\n",
        "  op = choice([\"adam\", \"nadam\", \"adamax\", \"adagrad\"])\n",
        "  parameters[\"op\"] = op\n",
        "  ep = randint(10, 25)\n",
        "  parameters[\"ep\"] = ep\n",
        "  return parameters"
      ],
      "metadata": {
        "id": "6L7nrDbJaYcw"
      },
      "execution_count": null,
      "outputs": []
    },
    {
      "cell_type": "code",
      "source": [
        "def generate_population_EfficientNetV2L(n):\n",
        "  population = []\n",
        "  for i in range(n):\n",
        "    chromosome = initialization_EfficientNetV2L()\n",
        "    population.append(chromosome)\n",
        "  return population"
      ],
      "metadata": {
        "id": "VOdQ-7wRacNc"
      },
      "execution_count": null,
      "outputs": []
    },
    {
      "cell_type": "code",
      "source": [
        "# Fitness evaluation metric: Classification Accuracy\n",
        "def fitness_evaluation(model):\n",
        "  metrics = model.evaluate(validation_generator)\n",
        "  return metrics[1]"
      ],
      "metadata": {
        "id": "5TjdxVp1agNT"
      },
      "execution_count": null,
      "outputs": []
    },
    {
      "cell_type": "code",
      "source": [
        "# Roulette wheel selection method\n",
        "def selection(population_fitness):\n",
        "  total = sum(population_fitness)\n",
        "  percentage = [round((x/total) * 100) for x in population_fitness]\n",
        "  selection_wheel = []\n",
        "  for pop_index,num in enumerate(percentage):\n",
        "    selection_wheel.extend([pop_index]*num)\n",
        "  parent1_ind = choice(selection_wheel)\n",
        "  parent2_ind = choice(selection_wheel)\n",
        "  return [parent1_ind, parent2_ind]"
      ],
      "metadata": {
        "id": "F2Mks6ODajKj"
      },
      "execution_count": null,
      "outputs": []
    },
    {
      "cell_type": "code",
      "source": [
        "def crossover_EfficientNetV2L(parent1, parent2):\n",
        "  child1 = {}\n",
        "  child2 = {}\n",
        "\n",
        "  child1[\"frozen\"] = choice([parent1[\"frozen\"], parent2[\"frozen\"]])\n",
        "  child2[\"frozen\"] = choice([parent1[\"frozen\"], parent2[\"frozen\"]])\n",
        "\n",
        "  child1[\"f1\"] = choice([parent1[\"f1\"], parent2[\"f1\"]])\n",
        "  child2[\"f1\"] = choice([parent1[\"f1\"], parent2[\"f1\"]])\n",
        "\n",
        "  child1[\"a1\"] = parent2[\"a1\"]\n",
        "  child2[\"a1\"] = parent1[\"a1\"]\n",
        "\n",
        "  child1[\"d1\"] = parent1[\"d1\"]\n",
        "  child2[\"d1\"] = parent2[\"d1\"]\n",
        "\n",
        "  child1[\"op\"] = parent1[\"op\"]\n",
        "  child2[\"op\"] = parent2[\"op\"]\n",
        "\n",
        "  child1[\"ep\"] = parent1[\"ep\"]\n",
        "  child2[\"ep\"] = parent2[\"ep\"]\n",
        "  return [child1, child2]"
      ],
      "metadata": {
        "id": "fAB593OBamR1"
      },
      "execution_count": null,
      "outputs": []
    },
    {
      "cell_type": "code",
      "source": [
        "def mutation_EfficientNetV2L(chromosome):\n",
        "  flag = randint(0,40)\n",
        "  if flag <= 20:\n",
        "    chromosome[\"ep\"] += randint(0, 10)\n",
        "  return chromosome"
      ],
      "metadata": {
        "id": "5hQOFfOmaplw"
      },
      "execution_count": null,
      "outputs": []
    },
    {
      "cell_type": "code",
      "source": [
        "\n",
        "generations = 5\n",
        "threshold = 90\n",
        "num_pop = 3\n",
        "\n",
        "population = generate_population_EfficientNetB7(num_pop)\n",
        "\n",
        "for generation in range(generations):\n",
        "\n",
        "  population_fitness = []\n",
        "  for chromosome in population:\n",
        "    frozen = chromosome[\"frozen\"]\n",
        "    f1 = chromosome[\"f1\"]\n",
        "    a1 = chromosome[\"a1\"]\n",
        "    d1 = chromosome[\"d1\"]\n",
        "    op = chromosome[\"op\"]\n",
        "    ep = chromosome[\"ep\"]\n",
        "\n",
        "    try:\n",
        "      model = EfficientNetV2L_model(frozen, f1, a1, d1, op, ep)\n",
        "      acc = fitness_evaluation(model)\n",
        "      print(\"Parameters: \", chromosome)\n",
        "      print(\"Accuracy: \", round(acc,5))\n",
        "    except:\n",
        "      acc=0\n",
        "      print(\"Parameters: \", chromosome)\n",
        "      print(\"Invalid parameters - Build fail\")\n",
        "\n",
        "    population_fitness.append(acc)\n",
        "\n",
        "  parents_ind = selection(population_fitness)\n",
        "  parent1 = population[parents_ind[0]]\n",
        "  parent2 = population[parents_ind[1]]\n",
        "\n",
        "  children = crossover_EfficientNetV2L(parent1, parent2)\n",
        "  child1 = mutation_EfficientNetV2L(children[0])\n",
        "  child2 = mutation_EfficientNetV2L(children[1])\n",
        "\n",
        "  population.append(child1)\n",
        "  population.append(child2)\n",
        "\n",
        "  print(\"Generation \", generation+1,\" Outcome: \")\n",
        "  if max(population_fitness) >= threshold:\n",
        "    print(\"Obtained desired accuracy: \", max(population_fitness))\n",
        "    break\n",
        "  else:\n",
        "    print(\"Maximum accuracy in generation {} : {}\".format(generation+1, max(population_fitness)))\n",
        "\n",
        "  first_min = min(population_fitness)\n",
        "  first_min_ind = population_fitness.index(first_min)\n",
        "  population.remove(population[first_min_ind])\n",
        "  second_min = min(population_fitness)\n",
        "  second_min_ind = population_fitness.index(second_min)\n",
        "  population.remove(population[second_min_ind])"
      ],
      "metadata": {
        "id": "PpVAY_8TatB9"
      },
      "execution_count": null,
      "outputs": []
    },
    {
      "cell_type": "code",
      "source": [],
      "metadata": {
        "id": "GHnccsBfawo5"
      },
      "execution_count": null,
      "outputs": []
    }
  ],
  "metadata": {
    "accelerator": "GPU",
    "colab": {
      "provenance": []
    },
    "kernelspec": {
      "display_name": "Python 3",
      "name": "python3"
    },
    "language_info": {
      "name": "python"
    }
  },
  "nbformat": 4,
  "nbformat_minor": 0
}
